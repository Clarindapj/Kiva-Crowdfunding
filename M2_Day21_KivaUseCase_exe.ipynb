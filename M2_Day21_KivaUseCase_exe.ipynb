{
 "cells": [
  {
   "cell_type": "markdown",
   "metadata": {},
   "source": [
    "# Crowfunding Analysis.\n",
    "### Using kiva.org datasets"
   ]
  },
  {
   "cell_type": "markdown",
   "metadata": {},
   "source": [
    "> Notes:\n",
    "Description for Kiva Dataset:\n",
    "\n",
    "- `id`: Unique ID untuk masing-masing loan (loan ID)\n",
    "- `funded_amount`: Jumlah yang dicairkan oleh Kiva ke agen (USD)\n",
    "- `loan_amount`: Jumlah yang disalurkan oleh agen ke peminjam (USD)\n",
    "- Additional\n",
    "\t- `use` = fungsi/tujuan peminjaman\n",
    "\t- `loan_amount` = adalah jumlah dana yang dibutuhkan oleh borrower (peminjam).\n",
    "\t- `funded_amount` = biasanya sama atau lebih kecil dari loan_amount:\n",
    "\t\t- Sama: Jika seluruh jumlah yang dibutuhkan berhasil terkumpul.\n",
    "\t\t- Lebih kecil: Jika belum seluruhnya terkumpul, tetapi Kiva memutuskan tetap mendistribusikan sebagian yang sudah terkumpul.\n",
    "- `activity`: Kategori lebih spesifik dari `sector`\n",
    "-\t `sector`: Kategori dari loan\n",
    "-\t `country`: Nama negara lengkap, tempat pinjaman dicairkan\n",
    "-\t`region`: Nama wilayah lengkap dari `country`\n",
    "-\t`currency`: Mata uang\n",
    "-\t`partner_id`: ID untuk organisasi partner\n",
    "-\t`posted_time`: Waktu pinjaman di-posting di Kiva oleh agen\n",
    "-\t`funded_time`: Waktu pinjaman telah sepenuhnya dibiayai oleh pemberi pinjaman\n",
    "-\t`term_in_months`: Durasi pencairan pinjaman (dalam satuan bulan)\n",
    "-\t`lender_count`: Banyaknya peminjam yang berkontribusi\n",
    "-\t`repayment_interval`: Cara pelunasan peminjaman"
   ]
  },
  {
   "cell_type": "markdown",
   "metadata": {},
   "source": [
    "---\n",
    "---"
   ]
  },
  {
   "cell_type": "markdown",
   "metadata": {},
   "source": [
    "> ### Import Libraries, Ignore Warnings, Set to decimals (two decimal numbers behind commas)"
   ]
  },
  {
   "cell_type": "code",
   "execution_count": 2,
   "metadata": {},
   "outputs": [],
   "source": [
    "import pandas as pd\n",
    "import numpy as np\n",
    "import seaborn as sns\n",
    "import matplotlib.pyplot as plt\n",
    "\n",
    "from datetime import datetime\n",
    "import plotly.express as px\n",
    "import plotly.graph_objects as go\n",
    "from plotly.subplots import make_subplots\n",
    "\n",
    "from scipy.stats import shapiro\n",
    "from scipy.stats import f_oneway as anova\n",
    "\n",
    "import warnings \n",
    "warnings.filterwarnings('ignore') \n",
    "pd.set_option(\"display.float_format\", lambda x: \"%.2f\" % x)\n"
   ]
  },
  {
   "cell_type": "code",
   "execution_count": 3,
   "metadata": {},
   "outputs": [
    {
     "data": {
      "text/html": [
       "<div>\n",
       "<style scoped>\n",
       "    .dataframe tbody tr th:only-of-type {\n",
       "        vertical-align: middle;\n",
       "    }\n",
       "\n",
       "    .dataframe tbody tr th {\n",
       "        vertical-align: top;\n",
       "    }\n",
       "\n",
       "    .dataframe thead th {\n",
       "        text-align: right;\n",
       "    }\n",
       "</style>\n",
       "<table border=\"1\" class=\"dataframe\">\n",
       "  <thead>\n",
       "    <tr style=\"text-align: right;\">\n",
       "      <th></th>\n",
       "      <th>id</th>\n",
       "      <th>funded_amount</th>\n",
       "      <th>loan_amount</th>\n",
       "      <th>activity</th>\n",
       "      <th>sector</th>\n",
       "      <th>use</th>\n",
       "      <th>country</th>\n",
       "      <th>region</th>\n",
       "      <th>currency</th>\n",
       "      <th>partner_id</th>\n",
       "      <th>posted_time</th>\n",
       "      <th>funded_time</th>\n",
       "      <th>term_in_months</th>\n",
       "      <th>lender_count</th>\n",
       "      <th>repayment_interval</th>\n",
       "    </tr>\n",
       "  </thead>\n",
       "  <tbody>\n",
       "    <tr>\n",
       "      <th>671200</th>\n",
       "      <td>1340323</td>\n",
       "      <td>0.00</td>\n",
       "      <td>25.00</td>\n",
       "      <td>Livestock</td>\n",
       "      <td>Agriculture</td>\n",
       "      <td>[True, u'para compara: cemento, arenya y ladri...</td>\n",
       "      <td>Paraguay</td>\n",
       "      <td>Concepción</td>\n",
       "      <td>USD</td>\n",
       "      <td>58.00</td>\n",
       "      <td>2017-07-25 16:55:34+00:00</td>\n",
       "      <td>NaN</td>\n",
       "      <td>13.00</td>\n",
       "      <td>0</td>\n",
       "      <td>monthly</td>\n",
       "    </tr>\n",
       "    <tr>\n",
       "      <th>671201</th>\n",
       "      <td>1340316</td>\n",
       "      <td>25.00</td>\n",
       "      <td>25.00</td>\n",
       "      <td>Livestock</td>\n",
       "      <td>Agriculture</td>\n",
       "      <td>[True, u'to start a turducken farm.'] - this l...</td>\n",
       "      <td>Kenya</td>\n",
       "      <td>NaN</td>\n",
       "      <td>KES</td>\n",
       "      <td>138.00</td>\n",
       "      <td>2017-07-25 06:14:08+00:00</td>\n",
       "      <td>2017-07-26 02:09:43+00:00</td>\n",
       "      <td>13.00</td>\n",
       "      <td>1</td>\n",
       "      <td>monthly</td>\n",
       "    </tr>\n",
       "    <tr>\n",
       "      <th>671202</th>\n",
       "      <td>1340334</td>\n",
       "      <td>0.00</td>\n",
       "      <td>25.00</td>\n",
       "      <td>Games</td>\n",
       "      <td>Entertainment</td>\n",
       "      <td>NaN</td>\n",
       "      <td>Kenya</td>\n",
       "      <td>NaN</td>\n",
       "      <td>KES</td>\n",
       "      <td>138.00</td>\n",
       "      <td>2017-07-26 00:02:07+00:00</td>\n",
       "      <td>NaN</td>\n",
       "      <td>13.00</td>\n",
       "      <td>0</td>\n",
       "      <td>monthly</td>\n",
       "    </tr>\n",
       "    <tr>\n",
       "      <th>671203</th>\n",
       "      <td>1340338</td>\n",
       "      <td>0.00</td>\n",
       "      <td>25.00</td>\n",
       "      <td>Livestock</td>\n",
       "      <td>Agriculture</td>\n",
       "      <td>[True, u'to start a turducken farm.'] - this l...</td>\n",
       "      <td>Kenya</td>\n",
       "      <td>NaN</td>\n",
       "      <td>KES</td>\n",
       "      <td>138.00</td>\n",
       "      <td>2017-07-26 06:12:55+00:00</td>\n",
       "      <td>NaN</td>\n",
       "      <td>13.00</td>\n",
       "      <td>0</td>\n",
       "      <td>monthly</td>\n",
       "    </tr>\n",
       "    <tr>\n",
       "      <th>671204</th>\n",
       "      <td>1340339</td>\n",
       "      <td>0.00</td>\n",
       "      <td>25.00</td>\n",
       "      <td>Livestock</td>\n",
       "      <td>Agriculture</td>\n",
       "      <td>[True, u'to start a turducken farm.'] - this l...</td>\n",
       "      <td>Kenya</td>\n",
       "      <td>NaN</td>\n",
       "      <td>KES</td>\n",
       "      <td>138.00</td>\n",
       "      <td>2017-07-26 06:31:46+00:00</td>\n",
       "      <td>NaN</td>\n",
       "      <td>13.00</td>\n",
       "      <td>0</td>\n",
       "      <td>monthly</td>\n",
       "    </tr>\n",
       "  </tbody>\n",
       "</table>\n",
       "</div>"
      ],
      "text/plain": [
       "             id  funded_amount  loan_amount   activity         sector  \\\n",
       "671200  1340323           0.00        25.00  Livestock    Agriculture   \n",
       "671201  1340316          25.00        25.00  Livestock    Agriculture   \n",
       "671202  1340334           0.00        25.00      Games  Entertainment   \n",
       "671203  1340338           0.00        25.00  Livestock    Agriculture   \n",
       "671204  1340339           0.00        25.00  Livestock    Agriculture   \n",
       "\n",
       "                                                      use   country  \\\n",
       "671200  [True, u'para compara: cemento, arenya y ladri...  Paraguay   \n",
       "671201  [True, u'to start a turducken farm.'] - this l...     Kenya   \n",
       "671202                                                NaN     Kenya   \n",
       "671203  [True, u'to start a turducken farm.'] - this l...     Kenya   \n",
       "671204  [True, u'to start a turducken farm.'] - this l...     Kenya   \n",
       "\n",
       "            region currency  partner_id                posted_time  \\\n",
       "671200  Concepción      USD       58.00  2017-07-25 16:55:34+00:00   \n",
       "671201         NaN      KES      138.00  2017-07-25 06:14:08+00:00   \n",
       "671202         NaN      KES      138.00  2017-07-26 00:02:07+00:00   \n",
       "671203         NaN      KES      138.00  2017-07-26 06:12:55+00:00   \n",
       "671204         NaN      KES      138.00  2017-07-26 06:31:46+00:00   \n",
       "\n",
       "                      funded_time  term_in_months  lender_count  \\\n",
       "671200                        NaN           13.00             0   \n",
       "671201  2017-07-26 02:09:43+00:00           13.00             1   \n",
       "671202                        NaN           13.00             0   \n",
       "671203                        NaN           13.00             0   \n",
       "671204                        NaN           13.00             0   \n",
       "\n",
       "       repayment_interval  \n",
       "671200            monthly  \n",
       "671201            monthly  \n",
       "671202            monthly  \n",
       "671203            monthly  \n",
       "671204            monthly  "
      ]
     },
     "execution_count": 3,
     "metadata": {},
     "output_type": "execute_result"
    }
   ],
   "source": [
    "df = pd.read_csv(\"kiva_loan.csv\")\n",
    "df.tail()"
   ]
  },
  {
   "cell_type": "markdown",
   "metadata": {},
   "source": [
    "---\n",
    "---"
   ]
  },
  {
   "cell_type": "markdown",
   "metadata": {},
   "source": [
    "> ## Data Cleaning\n",
    "- Check duplicated\n",
    "- Check missing value\n",
    "- Check nunique (unique value)"
   ]
  },
  {
   "cell_type": "code",
   "execution_count": 4,
   "metadata": {},
   "outputs": [
    {
     "data": {
      "text/plain": [
       "0"
      ]
     },
     "execution_count": 4,
     "metadata": {},
     "output_type": "execute_result"
    }
   ],
   "source": [
    "df.duplicated().sum()"
   ]
  },
  {
   "cell_type": "code",
   "execution_count": 5,
   "metadata": {},
   "outputs": [
    {
     "data": {
      "text/plain": [
       "id                        0\n",
       "funded_amount             0\n",
       "loan_amount               0\n",
       "activity                  0\n",
       "sector                    0\n",
       "use                    4232\n",
       "country                   0\n",
       "region                56800\n",
       "currency                  0\n",
       "partner_id            13507\n",
       "posted_time               0\n",
       "funded_time           48331\n",
       "term_in_months            0\n",
       "lender_count              0\n",
       "repayment_interval        0\n",
       "dtype: int64"
      ]
     },
     "execution_count": 5,
     "metadata": {},
     "output_type": "execute_result"
    }
   ],
   "source": [
    "df.isna().sum()"
   ]
  },
  {
   "cell_type": "code",
   "execution_count": 6,
   "metadata": {},
   "outputs": [
    {
     "name": "stdout",
     "output_type": "stream",
     "text": [
      "<class 'pandas.core.frame.DataFrame'>\n",
      "RangeIndex: 671205 entries, 0 to 671204\n",
      "Data columns (total 15 columns):\n",
      " #   Column              Non-Null Count   Dtype  \n",
      "---  ------              --------------   -----  \n",
      " 0   id                  671205 non-null  int64  \n",
      " 1   funded_amount       671205 non-null  float64\n",
      " 2   loan_amount         671205 non-null  float64\n",
      " 3   activity            671205 non-null  object \n",
      " 4   sector              671205 non-null  object \n",
      " 5   use                 666973 non-null  object \n",
      " 6   country             671205 non-null  object \n",
      " 7   region              614405 non-null  object \n",
      " 8   currency            671205 non-null  object \n",
      " 9   partner_id          657698 non-null  float64\n",
      " 10  posted_time         671205 non-null  object \n",
      " 11  funded_time         622874 non-null  object \n",
      " 12  term_in_months      671205 non-null  float64\n",
      " 13  lender_count        671205 non-null  int64  \n",
      " 14  repayment_interval  671205 non-null  object \n",
      "dtypes: float64(4), int64(2), object(9)\n",
      "memory usage: 76.8+ MB\n"
     ]
    }
   ],
   "source": [
    "df.info()"
   ]
  },
  {
   "cell_type": "code",
   "execution_count": 7,
   "metadata": {},
   "outputs": [
    {
     "data": {
      "text/plain": [
       "id                    671205\n",
       "funded_amount            610\n",
       "loan_amount              479\n",
       "activity                 163\n",
       "sector                    15\n",
       "use                   424912\n",
       "country                   87\n",
       "region                 12695\n",
       "currency                  67\n",
       "partner_id               366\n",
       "posted_time           667399\n",
       "funded_time           498007\n",
       "term_in_months           148\n",
       "lender_count             503\n",
       "repayment_interval         4\n",
       "dtype: int64"
      ]
     },
     "execution_count": 7,
     "metadata": {},
     "output_type": "execute_result"
    }
   ],
   "source": [
    "df.nunique()"
   ]
  },
  {
   "cell_type": "code",
   "execution_count": 8,
   "metadata": {},
   "outputs": [
    {
     "data": {
      "text/html": [
       "<div>\n",
       "<style scoped>\n",
       "    .dataframe tbody tr th:only-of-type {\n",
       "        vertical-align: middle;\n",
       "    }\n",
       "\n",
       "    .dataframe tbody tr th {\n",
       "        vertical-align: top;\n",
       "    }\n",
       "\n",
       "    .dataframe thead th {\n",
       "        text-align: right;\n",
       "    }\n",
       "</style>\n",
       "<table border=\"1\" class=\"dataframe\">\n",
       "  <thead>\n",
       "    <tr style=\"text-align: right;\">\n",
       "      <th></th>\n",
       "      <th>id</th>\n",
       "      <th>funded_amount</th>\n",
       "      <th>loan_amount</th>\n",
       "      <th>activity</th>\n",
       "      <th>sector</th>\n",
       "      <th>use</th>\n",
       "      <th>country</th>\n",
       "      <th>region</th>\n",
       "      <th>currency</th>\n",
       "      <th>partner_id</th>\n",
       "      <th>posted_time</th>\n",
       "      <th>funded_time</th>\n",
       "      <th>term_in_months</th>\n",
       "      <th>lender_count</th>\n",
       "      <th>repayment_interval</th>\n",
       "    </tr>\n",
       "  </thead>\n",
       "  <tbody>\n",
       "    <tr>\n",
       "      <th>87</th>\n",
       "      <td>653261</td>\n",
       "      <td>4275.00</td>\n",
       "      <td>5000.00</td>\n",
       "      <td>Personal Housing Expenses</td>\n",
       "      <td>Housing</td>\n",
       "      <td>to pave the ground and repair the ceiling, to ...</td>\n",
       "      <td>Palestine</td>\n",
       "      <td>jenin</td>\n",
       "      <td>USD</td>\n",
       "      <td>122.00</td>\n",
       "      <td>2014-01-02 09:53:45+00:00</td>\n",
       "      <td>NaN</td>\n",
       "      <td>39.00</td>\n",
       "      <td>58</td>\n",
       "      <td>monthly</td>\n",
       "    </tr>\n",
       "  </tbody>\n",
       "</table>\n",
       "</div>"
      ],
      "text/plain": [
       "        id  funded_amount  loan_amount                   activity   sector  \\\n",
       "87  653261        4275.00      5000.00  Personal Housing Expenses  Housing   \n",
       "\n",
       "                                                  use    country region  \\\n",
       "87  to pave the ground and repair the ceiling, to ...  Palestine  jenin   \n",
       "\n",
       "   currency  partner_id                posted_time funded_time  \\\n",
       "87      USD      122.00  2014-01-02 09:53:45+00:00         NaN   \n",
       "\n",
       "    term_in_months  lender_count repayment_interval  \n",
       "87           39.00            58            monthly  "
      ]
     },
     "execution_count": 8,
     "metadata": {},
     "output_type": "execute_result"
    }
   ],
   "source": [
    "df[df['funded_time'].isna()].head(1)"
   ]
  },
  {
   "cell_type": "markdown",
   "metadata": {},
   "source": [
    "#### Changing or converting the missing value `(NAN) to Unknown`"
   ]
  },
  {
   "cell_type": "code",
   "execution_count": 9,
   "metadata": {},
   "outputs": [],
   "source": [
    "df['region'] = df['region'].fillna('Unknown')\n",
    "df['use'] = df['use'].fillna('Unknown')\n",
    "df['partner_id'] = df['partner_id'].fillna('Unknown')"
   ]
  },
  {
   "cell_type": "markdown",
   "metadata": {},
   "source": [
    "Ignore the Missing Value from funded_time, "
   ]
  },
  {
   "cell_type": "code",
   "execution_count": 10,
   "metadata": {},
   "outputs": [],
   "source": [
    "df['funded_time'] = pd.to_datetime(df['funded_time'], errors ='coerce')"
   ]
  },
  {
   "cell_type": "code",
   "execution_count": 11,
   "metadata": {},
   "outputs": [
    {
     "data": {
      "text/html": [
       "<div>\n",
       "<style scoped>\n",
       "    .dataframe tbody tr th:only-of-type {\n",
       "        vertical-align: middle;\n",
       "    }\n",
       "\n",
       "    .dataframe tbody tr th {\n",
       "        vertical-align: top;\n",
       "    }\n",
       "\n",
       "    .dataframe thead th {\n",
       "        text-align: right;\n",
       "    }\n",
       "</style>\n",
       "<table border=\"1\" class=\"dataframe\">\n",
       "  <thead>\n",
       "    <tr style=\"text-align: right;\">\n",
       "      <th></th>\n",
       "      <th>id</th>\n",
       "      <th>funded_amount</th>\n",
       "      <th>loan_amount</th>\n",
       "      <th>activity</th>\n",
       "      <th>sector</th>\n",
       "      <th>use</th>\n",
       "      <th>country</th>\n",
       "      <th>region</th>\n",
       "      <th>currency</th>\n",
       "      <th>partner_id</th>\n",
       "      <th>posted_time</th>\n",
       "      <th>funded_time</th>\n",
       "      <th>term_in_months</th>\n",
       "      <th>lender_count</th>\n",
       "      <th>repayment_interval</th>\n",
       "    </tr>\n",
       "  </thead>\n",
       "  <tbody>\n",
       "    <tr>\n",
       "      <th>87</th>\n",
       "      <td>653261</td>\n",
       "      <td>4275.00</td>\n",
       "      <td>5000.00</td>\n",
       "      <td>Personal Housing Expenses</td>\n",
       "      <td>Housing</td>\n",
       "      <td>to pave the ground and repair the ceiling, to ...</td>\n",
       "      <td>Palestine</td>\n",
       "      <td>jenin</td>\n",
       "      <td>USD</td>\n",
       "      <td>122.00</td>\n",
       "      <td>2014-01-02 09:53:45+00:00</td>\n",
       "      <td>NaT</td>\n",
       "      <td>39.00</td>\n",
       "      <td>58</td>\n",
       "      <td>monthly</td>\n",
       "    </tr>\n",
       "    <tr>\n",
       "      <th>112</th>\n",
       "      <td>653256</td>\n",
       "      <td>1925.00</td>\n",
       "      <td>2400.00</td>\n",
       "      <td>Electronics Repair</td>\n",
       "      <td>Services</td>\n",
       "      <td>to pay the annual rent for his shop</td>\n",
       "      <td>Iraq</td>\n",
       "      <td>Unknown</td>\n",
       "      <td>USD</td>\n",
       "      <td>166.00</td>\n",
       "      <td>2014-01-02 09:44:10+00:00</td>\n",
       "      <td>NaT</td>\n",
       "      <td>15.00</td>\n",
       "      <td>41</td>\n",
       "      <td>monthly</td>\n",
       "    </tr>\n",
       "  </tbody>\n",
       "</table>\n",
       "</div>"
      ],
      "text/plain": [
       "         id  funded_amount  loan_amount                   activity    sector  \\\n",
       "87   653261        4275.00      5000.00  Personal Housing Expenses   Housing   \n",
       "112  653256        1925.00      2400.00         Electronics Repair  Services   \n",
       "\n",
       "                                                   use    country   region  \\\n",
       "87   to pave the ground and repair the ceiling, to ...  Palestine    jenin   \n",
       "112                to pay the annual rent for his shop       Iraq  Unknown   \n",
       "\n",
       "    currency partner_id                posted_time funded_time  \\\n",
       "87       USD     122.00  2014-01-02 09:53:45+00:00         NaT   \n",
       "112      USD     166.00  2014-01-02 09:44:10+00:00         NaT   \n",
       "\n",
       "     term_in_months  lender_count repayment_interval  \n",
       "87            39.00            58            monthly  \n",
       "112           15.00            41            monthly  "
      ]
     },
     "execution_count": 11,
     "metadata": {},
     "output_type": "execute_result"
    }
   ],
   "source": [
    "df[df['funded_time'].isna()].head(2)"
   ]
  },
  {
   "cell_type": "code",
   "execution_count": 12,
   "metadata": {},
   "outputs": [
    {
     "data": {
      "text/html": [
       "<div>\n",
       "<style scoped>\n",
       "    .dataframe tbody tr th:only-of-type {\n",
       "        vertical-align: middle;\n",
       "    }\n",
       "\n",
       "    .dataframe tbody tr th {\n",
       "        vertical-align: top;\n",
       "    }\n",
       "\n",
       "    .dataframe thead th {\n",
       "        text-align: right;\n",
       "    }\n",
       "</style>\n",
       "<table border=\"1\" class=\"dataframe\">\n",
       "  <thead>\n",
       "    <tr style=\"text-align: right;\">\n",
       "      <th></th>\n",
       "      <th>id</th>\n",
       "      <th>funded_amount</th>\n",
       "      <th>loan_amount</th>\n",
       "      <th>activity</th>\n",
       "      <th>sector</th>\n",
       "      <th>use</th>\n",
       "      <th>country</th>\n",
       "      <th>region</th>\n",
       "      <th>currency</th>\n",
       "      <th>partner_id</th>\n",
       "      <th>posted_time</th>\n",
       "      <th>funded_time</th>\n",
       "      <th>term_in_months</th>\n",
       "      <th>lender_count</th>\n",
       "      <th>repayment_interval</th>\n",
       "    </tr>\n",
       "  </thead>\n",
       "  <tbody>\n",
       "  </tbody>\n",
       "</table>\n",
       "</div>"
      ],
      "text/plain": [
       "Empty DataFrame\n",
       "Columns: [id, funded_amount, loan_amount, activity, sector, use, country, region, currency, partner_id, posted_time, funded_time, term_in_months, lender_count, repayment_interval]\n",
       "Index: []"
      ]
     },
     "execution_count": 12,
     "metadata": {},
     "output_type": "execute_result"
    }
   ],
   "source": [
    "df[df['funded_time'] == 'Not Fully Funded'].head(3)"
   ]
  },
  {
   "cell_type": "markdown",
   "metadata": {},
   "source": [
    "---\n",
    "---"
   ]
  },
  {
   "cell_type": "markdown",
   "metadata": {},
   "source": [
    "> ## Enhanced Framework for Data Science Exploration at CLUVIES"
   ]
  },
  {
   "cell_type": "markdown",
   "metadata": {},
   "source": [
    "## Introduction\n",
    "CLUVIES aims to leverage the Kiva dataset for comprehensive insights into microfinance trends, repayment dynamics, and sectoral preferences. This framework outlines a structured approach to data exploration, focusing on key metrics, fraud detection, and correlation analysis, finding something unique and interesting in everything.\n",
    "\n",
    "### Phase 1: Data Inspection and Cleaning\n",
    "General Statistics\n",
    "- Summary Metrics: Compute min, max, mean, mode, sum, and value_counts for numerical fields like loan_amount and funded_amount.\n",
    "\n",
    "- Data Distribution: Visualize histograms for loan_amount and funded_amount to identify skewness.\n",
    "\n",
    "- Data Quality Checks\n",
    "  - Missing Values: Identify and impute missing data in fields like region using geopy or regional averages.\n",
    "  - Duplicates: Remove duplicate entries based on id.\n",
    "  - Fraud/Scam Detection\n",
    "  - Anomaly Detection: Use techniques like Isolation Forest or Local Outlier Factor (LOF) to identify suspicious transactions.\n",
    "\n",
    "- Convert their money to IDR (Indonesian Rupiah), because CLUVIES is based in Indonesia\n",
    "\n",
    "### Phase 2: Temporal and Repayment Analysis\n",
    "Payment and Funding Times\n",
    "- Time Series Analysis: Plot posted_time vs. funded_time to assess funding efficiency.\n",
    "- Duration Analysis: Calculate the average time taken for loans to be fully funded.\n",
    "- Repayment Interval Analysis\n",
    "  - Categorical Analysis: Examine the distribution of repayment_interval (e.g., monthly vs. bullet payments).\n",
    "- Temporal Trends: Analyze repayment patterns over time to identify seasonal effects.\n",
    "\n",
    "### Phase 3: Correlation and Sectoral Analysis\n",
    "Correlation Analysis\n",
    "- Sector-Activity Correlation: Use heatmaps & sunburst to visualize correlations between sector, activity, and other categorical variables.\n",
    "\n",
    "- Numerical Correlations: Compute Pearson’s r for continuous variables like loan_amount and lender_count.\n",
    "\n",
    "- Sectoral Preferences\n",
    "- Top Sectors and Activities: Identify the most common sector and activity for both borrowers and lenders.\n",
    "- Investment Patterns: Analyze which sectors attract the most investments.\n",
    "- Rare case: Are there any rare case found in the dataset?\n",
    "\n",
    "### Phase 4: Advanced Insights\n",
    "Loan Cycle Analysis\n",
    "- Loan Duration: Calculate the average time borrowers take to repay loans.\n",
    "- Lender Participation: Examine how long lenders typically participate in funding loans.\n",
    "\n",
    "### Phase 5: Others? (Soon-to-be-added)"
   ]
  },
  {
   "cell_type": "markdown",
   "metadata": {},
   "source": [
    "> 1. Check Fraud / Scam or Negative purposes of lending money, without any use or partner ID."
   ]
  },
  {
   "cell_type": "code",
   "execution_count": 13,
   "metadata": {},
   "outputs": [
    {
     "data": {
      "text/plain": [
       "use           0\n",
       "sector        0\n",
       "activity      0\n",
       "partner_id    0\n",
       "dtype: int64"
      ]
     },
     "execution_count": 13,
     "metadata": {},
     "output_type": "execute_result"
    }
   ],
   "source": [
    "df[['use', 'sector', 'activity', 'partner_id']].isna().sum()"
   ]
  },
  {
   "cell_type": "markdown",
   "metadata": {},
   "source": [
    "> Insight!\n",
    "- 4232 people did not fill or post why are they're lending money from people\n",
    "- But 4232 people did fill the sector and activity.\n",
    "- 13507 people did not have or any partner_id (or maybe their partner is Unknown)?\n",
    "  - There is a slight possibility that they do have a partner ID but does not officially listed on Kiva?\n",
    "  - Or perhaps, just to test, and want to know: \"What if we did not fill the `sector, activity, use, and partner ID` would people still want to lend money to them?\n",
    "  - There is also a possibility they might not want to state their sector and use because..."
   ]
  },
  {
   "cell_type": "markdown",
   "metadata": {},
   "source": [
    ">2. Check Which country have the most and least people post on Kiva? \n",
    "- Why? What for?"
   ]
  },
  {
   "cell_type": "markdown",
   "metadata": {},
   "source": [
    "How many people in total post in Kiva from this dataset?"
   ]
  },
  {
   "cell_type": "code",
   "execution_count": 14,
   "metadata": {},
   "outputs": [
    {
     "data": {
      "text/plain": [
       "671205"
      ]
     },
     "execution_count": 14,
     "metadata": {},
     "output_type": "execute_result"
    }
   ],
   "source": [
    "df['country'].value_counts().sum()"
   ]
  },
  {
   "cell_type": "markdown",
   "metadata": {},
   "source": [
    "Where are the people who posts on Kiva come from?\n",
    "- (Find out how much country shows up from the dataaset)"
   ]
  },
  {
   "cell_type": "code",
   "execution_count": 15,
   "metadata": {},
   "outputs": [
    {
     "data": {
      "text/plain": [
       "country\n",
       "Philippines      160441\n",
       "Kenya             75825\n",
       "El Salvador       39875\n",
       "Cambodia          34836\n",
       "Pakistan          26857\n",
       "                  ...  \n",
       "Afghanistan           2\n",
       "Bhutan                2\n",
       "Guam                  1\n",
       "Mauritania            1\n",
       "Cote D'Ivoire         1\n",
       "Name: count, Length: 87, dtype: int64"
      ]
     },
     "execution_count": 15,
     "metadata": {},
     "output_type": "execute_result"
    }
   ],
   "source": [
    "df['country'].value_counts()"
   ]
  },
  {
   "cell_type": "code",
   "execution_count": 16,
   "metadata": {},
   "outputs": [
    {
     "data": {
      "text/plain": [
       "'Philippines'"
      ]
     },
     "execution_count": 16,
     "metadata": {},
     "output_type": "execute_result"
    }
   ],
   "source": [
    "df['country'].mode().sum()"
   ]
  },
  {
   "cell_type": "markdown",
   "metadata": {},
   "source": [
    "- We found out that people from Phillipines post on Kiva a lot.\n",
    "- That's why the country shows up."
   ]
  },
  {
   "cell_type": "markdown",
   "metadata": {},
   "source": [
    "---"
   ]
  },
  {
   "cell_type": "markdown",
   "metadata": {},
   "source": [
    "In here. I want to find out the sector, activity, use and lender counts..."
   ]
  },
  {
   "cell_type": "code",
   "execution_count": 17,
   "metadata": {},
   "outputs": [
    {
     "data": {
      "text/html": [
       "<div>\n",
       "<style scoped>\n",
       "    .dataframe tbody tr th:only-of-type {\n",
       "        vertical-align: middle;\n",
       "    }\n",
       "\n",
       "    .dataframe tbody tr th {\n",
       "        vertical-align: top;\n",
       "    }\n",
       "\n",
       "    .dataframe thead th {\n",
       "        text-align: right;\n",
       "    }\n",
       "</style>\n",
       "<table border=\"1\" class=\"dataframe\">\n",
       "  <thead>\n",
       "    <tr style=\"text-align: right;\">\n",
       "      <th></th>\n",
       "      <th>country</th>\n",
       "      <th>sector</th>\n",
       "      <th>activity</th>\n",
       "      <th>use</th>\n",
       "      <th>lender_count</th>\n",
       "      <th>count</th>\n",
       "    </tr>\n",
       "  </thead>\n",
       "  <tbody>\n",
       "    <tr>\n",
       "      <th>557616</th>\n",
       "      <td>Cambodia</td>\n",
       "      <td>Personal Use</td>\n",
       "      <td>Home Appliances</td>\n",
       "      <td>to buy a water filter to provide safe drinking...</td>\n",
       "      <td>5</td>\n",
       "      <td>802</td>\n",
       "    </tr>\n",
       "    <tr>\n",
       "      <th>557617</th>\n",
       "      <td>Cambodia</td>\n",
       "      <td>Personal Use</td>\n",
       "      <td>Home Appliances</td>\n",
       "      <td>to buy a water filter to provide safe drinking...</td>\n",
       "      <td>7</td>\n",
       "      <td>837</td>\n",
       "    </tr>\n",
       "    <tr>\n",
       "      <th>557618</th>\n",
       "      <td>Cambodia</td>\n",
       "      <td>Personal Use</td>\n",
       "      <td>Home Appliances</td>\n",
       "      <td>to buy a water filter to provide safe drinking...</td>\n",
       "      <td>4</td>\n",
       "      <td>984</td>\n",
       "    </tr>\n",
       "    <tr>\n",
       "      <th>557619</th>\n",
       "      <td>Cambodia</td>\n",
       "      <td>Personal Use</td>\n",
       "      <td>Home Appliances</td>\n",
       "      <td>to buy a water filter to provide safe drinking...</td>\n",
       "      <td>5</td>\n",
       "      <td>1058</td>\n",
       "    </tr>\n",
       "    <tr>\n",
       "      <th>557620</th>\n",
       "      <td>Cambodia</td>\n",
       "      <td>Personal Use</td>\n",
       "      <td>Home Appliances</td>\n",
       "      <td>to buy a water filter to provide safe drinking...</td>\n",
       "      <td>4</td>\n",
       "      <td>1153</td>\n",
       "    </tr>\n",
       "  </tbody>\n",
       "</table>\n",
       "</div>"
      ],
      "text/plain": [
       "         country        sector         activity  \\\n",
       "557616  Cambodia  Personal Use  Home Appliances   \n",
       "557617  Cambodia  Personal Use  Home Appliances   \n",
       "557618  Cambodia  Personal Use  Home Appliances   \n",
       "557619  Cambodia  Personal Use  Home Appliances   \n",
       "557620  Cambodia  Personal Use  Home Appliances   \n",
       "\n",
       "                                                      use  lender_count  count  \n",
       "557616  to buy a water filter to provide safe drinking...             5    802  \n",
       "557617  to buy a water filter to provide safe drinking...             7    837  \n",
       "557618  to buy a water filter to provide safe drinking...             4    984  \n",
       "557619  to buy a water filter to provide safe drinking...             5   1058  \n",
       "557620  to buy a water filter to provide safe drinking...             4   1153  "
      ]
     },
     "execution_count": 17,
     "metadata": {},
     "output_type": "execute_result"
    }
   ],
   "source": [
    "df1 = df[['country', 'sector', 'activity', 'use', 'lender_count']].value_counts(ascending=True).reset_index()\n",
    "df1.tail()"
   ]
  },
  {
   "cell_type": "markdown",
   "metadata": {},
   "source": [
    "In here we're finding out about how much: \n",
    "- the country, sector, activity, and lender_count shows up in here."
   ]
  },
  {
   "cell_type": "code",
   "execution_count": 18,
   "metadata": {},
   "outputs": [
    {
     "data": {
      "text/html": [
       "<div>\n",
       "<style scoped>\n",
       "    .dataframe tbody tr th:only-of-type {\n",
       "        vertical-align: middle;\n",
       "    }\n",
       "\n",
       "    .dataframe tbody tr th {\n",
       "        vertical-align: top;\n",
       "    }\n",
       "\n",
       "    .dataframe thead th {\n",
       "        text-align: right;\n",
       "    }\n",
       "</style>\n",
       "<table border=\"1\" class=\"dataframe\">\n",
       "  <thead>\n",
       "    <tr style=\"text-align: right;\">\n",
       "      <th></th>\n",
       "      <th>country</th>\n",
       "      <th>sector</th>\n",
       "      <th>activity</th>\n",
       "      <th>lender_count</th>\n",
       "      <th>count</th>\n",
       "    </tr>\n",
       "  </thead>\n",
       "  <tbody>\n",
       "    <tr>\n",
       "      <th>0</th>\n",
       "      <td>Philippines</td>\n",
       "      <td>Retail</td>\n",
       "      <td>General Store</td>\n",
       "      <td>1</td>\n",
       "      <td>6764</td>\n",
       "    </tr>\n",
       "    <tr>\n",
       "      <th>1</th>\n",
       "      <td>Cambodia</td>\n",
       "      <td>Personal Use</td>\n",
       "      <td>Home Appliances</td>\n",
       "      <td>4</td>\n",
       "      <td>3547</td>\n",
       "    </tr>\n",
       "    <tr>\n",
       "      <th>2</th>\n",
       "      <td>Philippines</td>\n",
       "      <td>Retail</td>\n",
       "      <td>General Store</td>\n",
       "      <td>9</td>\n",
       "      <td>3479</td>\n",
       "    </tr>\n",
       "    <tr>\n",
       "      <th>3</th>\n",
       "      <td>Philippines</td>\n",
       "      <td>Retail</td>\n",
       "      <td>General Store</td>\n",
       "      <td>5</td>\n",
       "      <td>3388</td>\n",
       "    </tr>\n",
       "    <tr>\n",
       "      <th>4</th>\n",
       "      <td>Philippines</td>\n",
       "      <td>Retail</td>\n",
       "      <td>General Store</td>\n",
       "      <td>7</td>\n",
       "      <td>3249</td>\n",
       "    </tr>\n",
       "    <tr>\n",
       "      <th>...</th>\n",
       "      <td>...</td>\n",
       "      <td>...</td>\n",
       "      <td>...</td>\n",
       "      <td>...</td>\n",
       "      <td>...</td>\n",
       "    </tr>\n",
       "    <tr>\n",
       "      <th>108351</th>\n",
       "      <td>Kyrgyzstan</td>\n",
       "      <td>Food</td>\n",
       "      <td>Food Production/Sales</td>\n",
       "      <td>17</td>\n",
       "      <td>1</td>\n",
       "    </tr>\n",
       "    <tr>\n",
       "      <th>108352</th>\n",
       "      <td>Kyrgyzstan</td>\n",
       "      <td>Food</td>\n",
       "      <td>Food Production/Sales</td>\n",
       "      <td>12</td>\n",
       "      <td>1</td>\n",
       "    </tr>\n",
       "    <tr>\n",
       "      <th>108353</th>\n",
       "      <td>Kyrgyzstan</td>\n",
       "      <td>Food</td>\n",
       "      <td>Food Production/Sales</td>\n",
       "      <td>10</td>\n",
       "      <td>1</td>\n",
       "    </tr>\n",
       "    <tr>\n",
       "      <th>108354</th>\n",
       "      <td>Kyrgyzstan</td>\n",
       "      <td>Food</td>\n",
       "      <td>Food Market</td>\n",
       "      <td>91</td>\n",
       "      <td>1</td>\n",
       "    </tr>\n",
       "    <tr>\n",
       "      <th>108355</th>\n",
       "      <td>Zimbabwe</td>\n",
       "      <td>Wholesale</td>\n",
       "      <td>Wholesale</td>\n",
       "      <td>57</td>\n",
       "      <td>1</td>\n",
       "    </tr>\n",
       "  </tbody>\n",
       "</table>\n",
       "<p>108356 rows × 5 columns</p>\n",
       "</div>"
      ],
      "text/plain": [
       "            country        sector               activity  lender_count  count\n",
       "0       Philippines        Retail          General Store             1   6764\n",
       "1          Cambodia  Personal Use        Home Appliances             4   3547\n",
       "2       Philippines        Retail          General Store             9   3479\n",
       "3       Philippines        Retail          General Store             5   3388\n",
       "4       Philippines        Retail          General Store             7   3249\n",
       "...             ...           ...                    ...           ...    ...\n",
       "108351   Kyrgyzstan          Food  Food Production/Sales            17      1\n",
       "108352   Kyrgyzstan          Food  Food Production/Sales            12      1\n",
       "108353   Kyrgyzstan          Food  Food Production/Sales            10      1\n",
       "108354   Kyrgyzstan          Food            Food Market            91      1\n",
       "108355     Zimbabwe     Wholesale              Wholesale            57      1\n",
       "\n",
       "[108356 rows x 5 columns]"
      ]
     },
     "execution_count": 18,
     "metadata": {},
     "output_type": "execute_result"
    }
   ],
   "source": [
    "df[['country', 'sector', 'activity','lender_count']].value_counts(ascending=False).reset_index()"
   ]
  },
  {
   "cell_type": "markdown",
   "metadata": {},
   "source": [
    "> Aim to find top 10:\n",
    "- Country, Sector, Activity, Use, and lender_count\n",
    "- Which country, sector, activity and use most people use in kiva?\n",
    "- how many time this people have posted on Kiva?"
   ]
  },
  {
   "cell_type": "code",
   "execution_count": 19,
   "metadata": {},
   "outputs": [
    {
     "data": {
      "image/png": "[encoded data removed]",
      "text/plain": [
       "<Figure size 1200x800 with 1 Axes>"
      ]
     },
     "metadata": {},
     "output_type": "display_data"
    }
   ],
   "source": [
    "top_10 = df[['country', 'sector', 'activity', 'lender_count']].value_counts(ascending=False).reset_index().head(10)\n",
    "plt.figure(figsize=(12, 8))\n",
    "sns.barplot(data=top_10, x='lender_count', y='country', hue='sector')\n",
    "plt.title('Top 10 Countries by Lender Count')\n",
    "plt.xlabel('Lender Count')\n",
    "plt.ylabel('Country')\n",
    "plt.legend(title = 'Sector')\n",
    "plt.show()"
   ]
  },
  {
   "cell_type": "markdown",
   "metadata": {},
   "source": [
    "I aimed to find top 10, but unfortunately it only shows the top3."
   ]
  },
  {
   "cell_type": "markdown",
   "metadata": {},
   "source": [
    "> Insight!\n",
    "- There are 6764 people in Philippines asking to lend money for their retail General Store business.\n",
    "- There are 3547 people in Cambodia asking to lend money for their home appliances.\n",
    "- There are 3479 people in Philippines asking to lend money for their General Store business.\n",
    "- There are several people in Kyrgyzstan asking to lend money for their Food Production/Sales and Food Market business.\n",
    "- There is one person in Zimbabwe asking to lend money for his/her Wholesale business.\n",
    "- People tend to lend their money for:\n",
    "  - Philippines for Retail business.\n",
    "  - Cambodia for Personal Use.\n",
    "  - And Philippines for Agriculture business."
   ]
  },
  {
   "cell_type": "markdown",
   "metadata": {},
   "source": [
    "> 3. Checking all category and activity."
   ]
  },
  {
   "cell_type": "code",
   "execution_count": 20,
   "metadata": {},
   "outputs": [
    {
     "data": {
      "text/html": [
       "<div>\n",
       "<style scoped>\n",
       "    .dataframe tbody tr th:only-of-type {\n",
       "        vertical-align: middle;\n",
       "    }\n",
       "\n",
       "    .dataframe tbody tr th {\n",
       "        vertical-align: top;\n",
       "    }\n",
       "\n",
       "    .dataframe thead th {\n",
       "        text-align: right;\n",
       "    }\n",
       "</style>\n",
       "<table border=\"1\" class=\"dataframe\">\n",
       "  <thead>\n",
       "    <tr style=\"text-align: right;\">\n",
       "      <th></th>\n",
       "      <th>sector</th>\n",
       "      <th>activity</th>\n",
       "    </tr>\n",
       "  </thead>\n",
       "  <tbody>\n",
       "    <tr>\n",
       "      <th>0</th>\n",
       "      <td>Food</td>\n",
       "      <td>Fruits &amp; Vegetables</td>\n",
       "    </tr>\n",
       "    <tr>\n",
       "      <th>1</th>\n",
       "      <td>Transportation</td>\n",
       "      <td>Rickshaw</td>\n",
       "    </tr>\n",
       "    <tr>\n",
       "      <th>2</th>\n",
       "      <td>Transportation</td>\n",
       "      <td>Transportation</td>\n",
       "    </tr>\n",
       "    <tr>\n",
       "      <th>3</th>\n",
       "      <td>Arts</td>\n",
       "      <td>Embroidery</td>\n",
       "    </tr>\n",
       "    <tr>\n",
       "      <th>4</th>\n",
       "      <td>Food</td>\n",
       "      <td>Milk Sales</td>\n",
       "    </tr>\n",
       "    <tr>\n",
       "      <th>...</th>\n",
       "      <td>...</td>\n",
       "      <td>...</td>\n",
       "    </tr>\n",
       "    <tr>\n",
       "      <th>671200</th>\n",
       "      <td>Agriculture</td>\n",
       "      <td>Livestock</td>\n",
       "    </tr>\n",
       "    <tr>\n",
       "      <th>671201</th>\n",
       "      <td>Agriculture</td>\n",
       "      <td>Livestock</td>\n",
       "    </tr>\n",
       "    <tr>\n",
       "      <th>671202</th>\n",
       "      <td>Entertainment</td>\n",
       "      <td>Games</td>\n",
       "    </tr>\n",
       "    <tr>\n",
       "      <th>671203</th>\n",
       "      <td>Agriculture</td>\n",
       "      <td>Livestock</td>\n",
       "    </tr>\n",
       "    <tr>\n",
       "      <th>671204</th>\n",
       "      <td>Agriculture</td>\n",
       "      <td>Livestock</td>\n",
       "    </tr>\n",
       "  </tbody>\n",
       "</table>\n",
       "<p>671205 rows × 2 columns</p>\n",
       "</div>"
      ],
      "text/plain": [
       "                sector             activity\n",
       "0                 Food  Fruits & Vegetables\n",
       "1       Transportation             Rickshaw\n",
       "2       Transportation       Transportation\n",
       "3                 Arts           Embroidery\n",
       "4                 Food           Milk Sales\n",
       "...                ...                  ...\n",
       "671200     Agriculture            Livestock\n",
       "671201     Agriculture            Livestock\n",
       "671202   Entertainment                Games\n",
       "671203     Agriculture            Livestock\n",
       "671204     Agriculture            Livestock\n",
       "\n",
       "[671205 rows x 2 columns]"
      ]
     },
     "execution_count": 20,
     "metadata": {},
     "output_type": "execute_result"
    }
   ],
   "source": [
    "df[['sector', 'activity']]"
   ]
  },
  {
   "cell_type": "code",
   "execution_count": 21,
   "metadata": {},
   "outputs": [
    {
     "data": {
      "text/plain": [
       "sector         activity                 \n",
       "Agriculture    Farming                      72955\n",
       "Retail         General Store                64729\n",
       "Housing        Personal Housing Expenses    32448\n",
       "Food           Food Production/Sales        28106\n",
       "Agriculture    Agriculture                  27023\n",
       "                                            ...  \n",
       "Arts           Film                            13\n",
       "Manufacturing  Personal Care Products           7\n",
       "Personal Use   Celebrations                     5\n",
       "Services       Event Planning                   5\n",
       "               Adult Care                       2\n",
       "Name: count, Length: 163, dtype: int64"
      ]
     },
     "execution_count": 21,
     "metadata": {},
     "output_type": "execute_result"
    }
   ],
   "source": [
    "df[['sector', 'activity']].value_counts()"
   ]
  },
  {
   "cell_type": "markdown",
   "metadata": {},
   "source": [
    "I found something interesting, from the output above... \n",
    "- There's several or some people using Kiva for Entertaiment purposes?\n",
    "   \n",
    "Let's find out why, and how many person do the same or similar thing?"
   ]
  },
  {
   "cell_type": "code",
   "execution_count": 22,
   "metadata": {},
   "outputs": [
    {
     "data": {
      "text/html": [
       "<div>\n",
       "<style scoped>\n",
       "    .dataframe tbody tr th:only-of-type {\n",
       "        vertical-align: middle;\n",
       "    }\n",
       "\n",
       "    .dataframe tbody tr th {\n",
       "        vertical-align: top;\n",
       "    }\n",
       "\n",
       "    .dataframe thead th {\n",
       "        text-align: right;\n",
       "    }\n",
       "</style>\n",
       "<table border=\"1\" class=\"dataframe\">\n",
       "  <thead>\n",
       "    <tr style=\"text-align: right;\">\n",
       "      <th></th>\n",
       "      <th>id</th>\n",
       "      <th>funded_amount</th>\n",
       "      <th>loan_amount</th>\n",
       "      <th>activity</th>\n",
       "      <th>sector</th>\n",
       "      <th>use</th>\n",
       "      <th>country</th>\n",
       "      <th>region</th>\n",
       "      <th>currency</th>\n",
       "      <th>partner_id</th>\n",
       "      <th>posted_time</th>\n",
       "      <th>funded_time</th>\n",
       "      <th>term_in_months</th>\n",
       "      <th>lender_count</th>\n",
       "      <th>repayment_interval</th>\n",
       "    </tr>\n",
       "  </thead>\n",
       "  <tbody>\n",
       "    <tr>\n",
       "      <th>4105</th>\n",
       "      <td>657140</td>\n",
       "      <td>525.00</td>\n",
       "      <td>525.00</td>\n",
       "      <td>Games</td>\n",
       "      <td>Entertainment</td>\n",
       "      <td>to buy supplies in bulk for his rental shop, s...</td>\n",
       "      <td>Colombia</td>\n",
       "      <td>Medellín</td>\n",
       "      <td>COP</td>\n",
       "      <td>177.00</td>\n",
       "      <td>2014-01-14 13:55:49+00:00</td>\n",
       "      <td>2014-01-17 09:33:32+00:00</td>\n",
       "      <td>14.00</td>\n",
       "      <td>21</td>\n",
       "      <td>monthly</td>\n",
       "    </tr>\n",
       "    <tr>\n",
       "      <th>4753</th>\n",
       "      <td>658251</td>\n",
       "      <td>300.00</td>\n",
       "      <td>300.00</td>\n",
       "      <td>Games</td>\n",
       "      <td>Entertainment</td>\n",
       "      <td>to purchase components, replacement parts and ...</td>\n",
       "      <td>Peru</td>\n",
       "      <td>PUCALLPA</td>\n",
       "      <td>PEN</td>\n",
       "      <td>71.00</td>\n",
       "      <td>2014-01-16 20:30:28+00:00</td>\n",
       "      <td>2014-01-18 02:23:48+00:00</td>\n",
       "      <td>8.00</td>\n",
       "      <td>12</td>\n",
       "      <td>monthly</td>\n",
       "    </tr>\n",
       "    <tr>\n",
       "      <th>5012</th>\n",
       "      <td>657866</td>\n",
       "      <td>600.00</td>\n",
       "      <td>600.00</td>\n",
       "      <td>Games</td>\n",
       "      <td>Entertainment</td>\n",
       "      <td>to buy another pool table.</td>\n",
       "      <td>Kenya</td>\n",
       "      <td>Njabini</td>\n",
       "      <td>KES</td>\n",
       "      <td>133.00</td>\n",
       "      <td>2014-01-16 07:27:19+00:00</td>\n",
       "      <td>2014-01-18 08:22:38+00:00</td>\n",
       "      <td>14.00</td>\n",
       "      <td>23</td>\n",
       "      <td>monthly</td>\n",
       "    </tr>\n",
       "    <tr>\n",
       "      <th>5370</th>\n",
       "      <td>658419</td>\n",
       "      <td>650.00</td>\n",
       "      <td>650.00</td>\n",
       "      <td>Games</td>\n",
       "      <td>Entertainment</td>\n",
       "      <td>to buy a bingo machine, bingo sheets, bingo st...</td>\n",
       "      <td>Samoa</td>\n",
       "      <td>Toamua</td>\n",
       "      <td>WST</td>\n",
       "      <td>15.00</td>\n",
       "      <td>2014-01-17 06:41:04+00:00</td>\n",
       "      <td>2014-01-17 22:17:11+00:00</td>\n",
       "      <td>14.00</td>\n",
       "      <td>25</td>\n",
       "      <td>irregular</td>\n",
       "    </tr>\n",
       "    <tr>\n",
       "      <th>10958</th>\n",
       "      <td>664070</td>\n",
       "      <td>375.00</td>\n",
       "      <td>375.00</td>\n",
       "      <td>Games</td>\n",
       "      <td>Entertainment</td>\n",
       "      <td>to acquire a small business premise.</td>\n",
       "      <td>Peru</td>\n",
       "      <td>independencia, Ancash</td>\n",
       "      <td>PEN</td>\n",
       "      <td>139.00</td>\n",
       "      <td>2014-01-30 15:44:25+00:00</td>\n",
       "      <td>2014-02-26 08:04:19+00:00</td>\n",
       "      <td>14.00</td>\n",
       "      <td>15</td>\n",
       "      <td>monthly</td>\n",
       "    </tr>\n",
       "    <tr>\n",
       "      <th>...</th>\n",
       "      <td>...</td>\n",
       "      <td>...</td>\n",
       "      <td>...</td>\n",
       "      <td>...</td>\n",
       "      <td>...</td>\n",
       "      <td>...</td>\n",
       "      <td>...</td>\n",
       "      <td>...</td>\n",
       "      <td>...</td>\n",
       "      <td>...</td>\n",
       "      <td>...</td>\n",
       "      <td>...</td>\n",
       "      <td>...</td>\n",
       "      <td>...</td>\n",
       "      <td>...</td>\n",
       "    </tr>\n",
       "    <tr>\n",
       "      <th>662702</th>\n",
       "      <td>1325258</td>\n",
       "      <td>1400.00</td>\n",
       "      <td>1400.00</td>\n",
       "      <td>Games</td>\n",
       "      <td>Entertainment</td>\n",
       "      <td>to buy bingo packages, bingo daubers, and pape...</td>\n",
       "      <td>Samoa</td>\n",
       "      <td>Sataua</td>\n",
       "      <td>WST</td>\n",
       "      <td>15.00</td>\n",
       "      <td>2017-06-22 04:00:26+00:00</td>\n",
       "      <td>2017-07-05 00:38:02+00:00</td>\n",
       "      <td>14.00</td>\n",
       "      <td>27</td>\n",
       "      <td>irregular</td>\n",
       "    </tr>\n",
       "    <tr>\n",
       "      <th>670724</th>\n",
       "      <td>1337050</td>\n",
       "      <td>100.00</td>\n",
       "      <td>1275.00</td>\n",
       "      <td>Games</td>\n",
       "      <td>Entertainment</td>\n",
       "      <td>to purchase two televisions and two video game...</td>\n",
       "      <td>Colombia</td>\n",
       "      <td>turbo</td>\n",
       "      <td>COP</td>\n",
       "      <td>177.00</td>\n",
       "      <td>2017-07-10 17:23:07+00:00</td>\n",
       "      <td>NaT</td>\n",
       "      <td>26.00</td>\n",
       "      <td>4</td>\n",
       "      <td>bullet</td>\n",
       "    </tr>\n",
       "    <tr>\n",
       "      <th>671171</th>\n",
       "      <td>1340264</td>\n",
       "      <td>0.00</td>\n",
       "      <td>25.00</td>\n",
       "      <td>Games</td>\n",
       "      <td>Entertainment</td>\n",
       "      <td>Kiva Coordinator replaced loan use. Should see...</td>\n",
       "      <td>Kenya</td>\n",
       "      <td>Unknown</td>\n",
       "      <td>KES</td>\n",
       "      <td>138.00</td>\n",
       "      <td>2017-07-21 16:59:10+00:00</td>\n",
       "      <td>NaT</td>\n",
       "      <td>13.00</td>\n",
       "      <td>0</td>\n",
       "      <td>monthly</td>\n",
       "    </tr>\n",
       "    <tr>\n",
       "      <th>671174</th>\n",
       "      <td>1340275</td>\n",
       "      <td>0.00</td>\n",
       "      <td>25.00</td>\n",
       "      <td>Games</td>\n",
       "      <td>Entertainment</td>\n",
       "      <td>Unknown</td>\n",
       "      <td>Kenya</td>\n",
       "      <td>Unknown</td>\n",
       "      <td>KES</td>\n",
       "      <td>138.00</td>\n",
       "      <td>2017-07-21 23:51:18+00:00</td>\n",
       "      <td>NaT</td>\n",
       "      <td>13.00</td>\n",
       "      <td>0</td>\n",
       "      <td>monthly</td>\n",
       "    </tr>\n",
       "    <tr>\n",
       "      <th>671202</th>\n",
       "      <td>1340334</td>\n",
       "      <td>0.00</td>\n",
       "      <td>25.00</td>\n",
       "      <td>Games</td>\n",
       "      <td>Entertainment</td>\n",
       "      <td>Unknown</td>\n",
       "      <td>Kenya</td>\n",
       "      <td>Unknown</td>\n",
       "      <td>KES</td>\n",
       "      <td>138.00</td>\n",
       "      <td>2017-07-26 00:02:07+00:00</td>\n",
       "      <td>NaT</td>\n",
       "      <td>13.00</td>\n",
       "      <td>0</td>\n",
       "      <td>monthly</td>\n",
       "    </tr>\n",
       "  </tbody>\n",
       "</table>\n",
       "<p>238 rows × 15 columns</p>\n",
       "</div>"
      ],
      "text/plain": [
       "             id  funded_amount  loan_amount activity         sector  \\\n",
       "4105     657140         525.00       525.00    Games  Entertainment   \n",
       "4753     658251         300.00       300.00    Games  Entertainment   \n",
       "5012     657866         600.00       600.00    Games  Entertainment   \n",
       "5370     658419         650.00       650.00    Games  Entertainment   \n",
       "10958    664070         375.00       375.00    Games  Entertainment   \n",
       "...         ...            ...          ...      ...            ...   \n",
       "662702  1325258        1400.00      1400.00    Games  Entertainment   \n",
       "670724  1337050         100.00      1275.00    Games  Entertainment   \n",
       "671171  1340264           0.00        25.00    Games  Entertainment   \n",
       "671174  1340275           0.00        25.00    Games  Entertainment   \n",
       "671202  1340334           0.00        25.00    Games  Entertainment   \n",
       "\n",
       "                                                      use   country  \\\n",
       "4105    to buy supplies in bulk for his rental shop, s...  Colombia   \n",
       "4753    to purchase components, replacement parts and ...      Peru   \n",
       "5012                           to buy another pool table.     Kenya   \n",
       "5370    to buy a bingo machine, bingo sheets, bingo st...     Samoa   \n",
       "10958                to acquire a small business premise.      Peru   \n",
       "...                                                   ...       ...   \n",
       "662702  to buy bingo packages, bingo daubers, and pape...     Samoa   \n",
       "670724  to purchase two televisions and two video game...  Colombia   \n",
       "671171  Kiva Coordinator replaced loan use. Should see...     Kenya   \n",
       "671174                                            Unknown     Kenya   \n",
       "671202                                            Unknown     Kenya   \n",
       "\n",
       "                       region currency partner_id                posted_time  \\\n",
       "4105                 Medellín      COP     177.00  2014-01-14 13:55:49+00:00   \n",
       "4753                 PUCALLPA      PEN      71.00  2014-01-16 20:30:28+00:00   \n",
       "5012                  Njabini      KES     133.00  2014-01-16 07:27:19+00:00   \n",
       "5370                   Toamua      WST      15.00  2014-01-17 06:41:04+00:00   \n",
       "10958   independencia, Ancash      PEN     139.00  2014-01-30 15:44:25+00:00   \n",
       "...                       ...      ...        ...                        ...   \n",
       "662702                 Sataua      WST      15.00  2017-06-22 04:00:26+00:00   \n",
       "670724                  turbo      COP     177.00  2017-07-10 17:23:07+00:00   \n",
       "671171                Unknown      KES     138.00  2017-07-21 16:59:10+00:00   \n",
       "671174                Unknown      KES     138.00  2017-07-21 23:51:18+00:00   \n",
       "671202                Unknown      KES     138.00  2017-07-26 00:02:07+00:00   \n",
       "\n",
       "                     funded_time  term_in_months  lender_count  \\\n",
       "4105   2014-01-17 09:33:32+00:00           14.00            21   \n",
       "4753   2014-01-18 02:23:48+00:00            8.00            12   \n",
       "5012   2014-01-18 08:22:38+00:00           14.00            23   \n",
       "5370   2014-01-17 22:17:11+00:00           14.00            25   \n",
       "10958  2014-02-26 08:04:19+00:00           14.00            15   \n",
       "...                          ...             ...           ...   \n",
       "662702 2017-07-05 00:38:02+00:00           14.00            27   \n",
       "670724                       NaT           26.00             4   \n",
       "671171                       NaT           13.00             0   \n",
       "671174                       NaT           13.00             0   \n",
       "671202                       NaT           13.00             0   \n",
       "\n",
       "       repayment_interval  \n",
       "4105              monthly  \n",
       "4753              monthly  \n",
       "5012              monthly  \n",
       "5370            irregular  \n",
       "10958             monthly  \n",
       "...                   ...  \n",
       "662702          irregular  \n",
       "670724             bullet  \n",
       "671171            monthly  \n",
       "671174            monthly  \n",
       "671202            monthly  \n",
       "\n",
       "[238 rows x 15 columns]"
      ]
     },
     "execution_count": 22,
     "metadata": {},
     "output_type": "execute_result"
    }
   ],
   "source": [
    "df2 = df[(df['sector'] == 'Entertainment') & (df['activity'] == 'Games')]\n",
    "df2"
   ]
  },
  {
   "cell_type": "markdown",
   "metadata": {},
   "source": [
    "- From the table above, we can find that there are 238 people that are using Kiva for `Entertaiment` purposes, especially in `Games` , activity and sector.\n",
    "- Let's find out how many people lended their money for this `Entertaiment & Games` purposes?"
   ]
  },
  {
   "cell_type": "code",
   "execution_count": 23,
   "metadata": {},
   "outputs": [
    {
     "data": {
      "text/plain": [
       "235"
      ]
     },
     "execution_count": 23,
     "metadata": {},
     "output_type": "execute_result"
    }
   ],
   "source": [
    "len(df[(df['sector'] == 'Entertainment') & (df['activity'] == 'Games') & (df['lender_count'] > 0)])"
   ]
  },
  {
   "cell_type": "markdown",
   "metadata": {},
   "source": [
    "We found out that even though the people are asking to lend some money from other people (strangers) they do not know for **Entertaiment and Games** purposes, yet there are 235 people who are willing to lend their money for **Entertaimemnt & Games**"
   ]
  },
  {
   "cell_type": "markdown",
   "metadata": {},
   "source": [
    "> Surprising Insight!\n",
    "\n",
    "- Even though this sector and activity, as we know `Entertaiment & Games` is not considered as top priority like foods, drinks, houses, places, for people to continue their daily life and work life, unexpectedly there are still 238  people asking strangers on the internet in the whole wide world for helps in `Entertaiment & Games`.\n",
    "- Even though that this isn't top priority or needs, but there are 235 people in the whole wide world who's willing to help the 238 people earlier, who's asking to lend strangers from the internet (and the whole wide world) for `Entertaiment & Games`.\n",
    "- Therefore, not only top priority needs (to continue people's life, work, and and educational purposes) that are available on Kiva\n",
    "- There are non-top-priority too, like `Entertaiment & Games` section as well.\n",
    "- Surprisingly a lot of people help and contributed in this `Entertaiment & Games`."
   ]
  },
  {
   "cell_type": "markdown",
   "metadata": {},
   "source": [
    "---"
   ]
  },
  {
   "cell_type": "markdown",
   "metadata": {},
   "source": [
    "Now, let's find out what's the top sector and activity that shows up the most from the dataset?"
   ]
  },
  {
   "cell_type": "code",
   "execution_count": 24,
   "metadata": {},
   "outputs": [
    {
     "data": {
      "text/html": [
       "<div>\n",
       "<style scoped>\n",
       "    .dataframe tbody tr th:only-of-type {\n",
       "        vertical-align: middle;\n",
       "    }\n",
       "\n",
       "    .dataframe tbody tr th {\n",
       "        vertical-align: top;\n",
       "    }\n",
       "\n",
       "    .dataframe thead th {\n",
       "        text-align: right;\n",
       "    }\n",
       "</style>\n",
       "<table border=\"1\" class=\"dataframe\">\n",
       "  <thead>\n",
       "    <tr style=\"text-align: right;\">\n",
       "      <th></th>\n",
       "      <th>sector</th>\n",
       "      <th>activity</th>\n",
       "    </tr>\n",
       "  </thead>\n",
       "  <tbody>\n",
       "    <tr>\n",
       "      <th>0</th>\n",
       "      <td>Agriculture</td>\n",
       "      <td>Farming</td>\n",
       "    </tr>\n",
       "  </tbody>\n",
       "</table>\n",
       "</div>"
      ],
      "text/plain": [
       "        sector activity\n",
       "0  Agriculture  Farming"
      ]
     },
     "execution_count": 24,
     "metadata": {},
     "output_type": "execute_result"
    }
   ],
   "source": [
    "df[['sector', 'activity']].mode()"
   ]
  },
  {
   "cell_type": "markdown",
   "metadata": {},
   "source": [
    "> Insight!\n",
    "- The sector that appears most frequently and has the highest occurrence is the `Agriculture` sector, specifically with the `Farming` activity."
   ]
  },
  {
   "cell_type": "markdown",
   "metadata": {},
   "source": [
    "How many sectors are there? What are those?"
   ]
  },
  {
   "cell_type": "code",
   "execution_count": 25,
   "metadata": {},
   "outputs": [
    {
     "data": {
      "text/html": [
       "<div>\n",
       "<style scoped>\n",
       "    .dataframe tbody tr th:only-of-type {\n",
       "        vertical-align: middle;\n",
       "    }\n",
       "\n",
       "    .dataframe tbody tr th {\n",
       "        vertical-align: top;\n",
       "    }\n",
       "\n",
       "    .dataframe thead th {\n",
       "        text-align: right;\n",
       "    }\n",
       "</style>\n",
       "<table border=\"1\" class=\"dataframe\">\n",
       "  <thead>\n",
       "    <tr style=\"text-align: right;\">\n",
       "      <th></th>\n",
       "      <th>sector</th>\n",
       "      <th>count</th>\n",
       "    </tr>\n",
       "  </thead>\n",
       "  <tbody>\n",
       "    <tr>\n",
       "      <th>0</th>\n",
       "      <td>Agriculture</td>\n",
       "      <td>180302</td>\n",
       "    </tr>\n",
       "    <tr>\n",
       "      <th>1</th>\n",
       "      <td>Food</td>\n",
       "      <td>136657</td>\n",
       "    </tr>\n",
       "    <tr>\n",
       "      <th>2</th>\n",
       "      <td>Retail</td>\n",
       "      <td>124494</td>\n",
       "    </tr>\n",
       "    <tr>\n",
       "      <th>3</th>\n",
       "      <td>Services</td>\n",
       "      <td>45140</td>\n",
       "    </tr>\n",
       "    <tr>\n",
       "      <th>4</th>\n",
       "      <td>Personal Use</td>\n",
       "      <td>36385</td>\n",
       "    </tr>\n",
       "    <tr>\n",
       "      <th>5</th>\n",
       "      <td>Housing</td>\n",
       "      <td>33731</td>\n",
       "    </tr>\n",
       "    <tr>\n",
       "      <th>6</th>\n",
       "      <td>Clothing</td>\n",
       "      <td>32742</td>\n",
       "    </tr>\n",
       "    <tr>\n",
       "      <th>7</th>\n",
       "      <td>Education</td>\n",
       "      <td>31013</td>\n",
       "    </tr>\n",
       "    <tr>\n",
       "      <th>8</th>\n",
       "      <td>Transportation</td>\n",
       "      <td>15518</td>\n",
       "    </tr>\n",
       "    <tr>\n",
       "      <th>9</th>\n",
       "      <td>Arts</td>\n",
       "      <td>12060</td>\n",
       "    </tr>\n",
       "    <tr>\n",
       "      <th>10</th>\n",
       "      <td>Health</td>\n",
       "      <td>9223</td>\n",
       "    </tr>\n",
       "    <tr>\n",
       "      <th>11</th>\n",
       "      <td>Construction</td>\n",
       "      <td>6268</td>\n",
       "    </tr>\n",
       "    <tr>\n",
       "      <th>12</th>\n",
       "      <td>Manufacturing</td>\n",
       "      <td>6208</td>\n",
       "    </tr>\n",
       "    <tr>\n",
       "      <th>13</th>\n",
       "      <td>Entertainment</td>\n",
       "      <td>830</td>\n",
       "    </tr>\n",
       "    <tr>\n",
       "      <th>14</th>\n",
       "      <td>Wholesale</td>\n",
       "      <td>634</td>\n",
       "    </tr>\n",
       "  </tbody>\n",
       "</table>\n",
       "</div>"
      ],
      "text/plain": [
       "            sector   count\n",
       "0      Agriculture  180302\n",
       "1             Food  136657\n",
       "2           Retail  124494\n",
       "3         Services   45140\n",
       "4     Personal Use   36385\n",
       "5          Housing   33731\n",
       "6         Clothing   32742\n",
       "7        Education   31013\n",
       "8   Transportation   15518\n",
       "9             Arts   12060\n",
       "10          Health    9223\n",
       "11    Construction    6268\n",
       "12   Manufacturing    6208\n",
       "13   Entertainment     830\n",
       "14       Wholesale     634"
      ]
     },
     "execution_count": 25,
     "metadata": {},
     "output_type": "execute_result"
    }
   ],
   "source": [
    "df['sector'].value_counts().reset_index()"
   ]
  },
  {
   "cell_type": "markdown",
   "metadata": {},
   "source": [
    "We can find out that there are 15 sectors from the dataset (14, because python indexing starting with 0)"
   ]
  },
  {
   "cell_type": "markdown",
   "metadata": {},
   "source": [
    "How many diiplicated activity that are in the dataset?"
   ]
  },
  {
   "cell_type": "code",
   "execution_count": 26,
   "metadata": {},
   "outputs": [
    {
     "data": {
      "text/html": [
       "<div>\n",
       "<style scoped>\n",
       "    .dataframe tbody tr th:only-of-type {\n",
       "        vertical-align: middle;\n",
       "    }\n",
       "\n",
       "    .dataframe tbody tr th {\n",
       "        vertical-align: top;\n",
       "    }\n",
       "\n",
       "    .dataframe thead th {\n",
       "        text-align: right;\n",
       "    }\n",
       "</style>\n",
       "<table border=\"1\" class=\"dataframe\">\n",
       "  <thead>\n",
       "    <tr style=\"text-align: right;\">\n",
       "      <th></th>\n",
       "      <th>index</th>\n",
       "      <th>count</th>\n",
       "    </tr>\n",
       "  </thead>\n",
       "  <tbody>\n",
       "    <tr>\n",
       "      <th>0</th>\n",
       "      <td>True</td>\n",
       "      <td>671042</td>\n",
       "    </tr>\n",
       "    <tr>\n",
       "      <th>1</th>\n",
       "      <td>False</td>\n",
       "      <td>163</td>\n",
       "    </tr>\n",
       "  </tbody>\n",
       "</table>\n",
       "</div>"
      ],
      "text/plain": [
       "   index   count\n",
       "0   True  671042\n",
       "1  False     163"
      ]
     },
     "execution_count": 26,
     "metadata": {},
     "output_type": "execute_result"
    }
   ],
   "source": [
    "df[['activity']].duplicated().value_counts().reset_index()"
   ]
  },
  {
   "cell_type": "markdown",
   "metadata": {},
   "source": [
    "We found out that there are 671.042 duplicated activity from Kiva dataset."
   ]
  },
  {
   "cell_type": "markdown",
   "metadata": {},
   "source": [
    "New thing to explore."
   ]
  },
  {
   "cell_type": "markdown",
   "metadata": {},
   "source": [
    "- Across the countries in this dataset, what is the distribution of sectors and activities for which borrowers are seeking funding?\n",
    "- Quantify the demand for each sector and activity within each country by counting the number of loan requests."
   ]
  },
  {
   "cell_type": "code",
   "execution_count": 27,
   "metadata": {},
   "outputs": [
    {
     "data": {
      "text/html": [
       "<div>\n",
       "<style scoped>\n",
       "    .dataframe tbody tr th:only-of-type {\n",
       "        vertical-align: middle;\n",
       "    }\n",
       "\n",
       "    .dataframe tbody tr th {\n",
       "        vertical-align: top;\n",
       "    }\n",
       "\n",
       "    .dataframe thead th {\n",
       "        text-align: right;\n",
       "    }\n",
       "</style>\n",
       "<table border=\"1\" class=\"dataframe\">\n",
       "  <thead>\n",
       "    <tr style=\"text-align: right;\">\n",
       "      <th></th>\n",
       "      <th>country</th>\n",
       "      <th>sector</th>\n",
       "      <th>activity</th>\n",
       "      <th>count</th>\n",
       "    </tr>\n",
       "  </thead>\n",
       "  <tbody>\n",
       "    <tr>\n",
       "      <th>0</th>\n",
       "      <td>Philippines</td>\n",
       "      <td>Retail</td>\n",
       "      <td>General Store</td>\n",
       "      <td>42960</td>\n",
       "    </tr>\n",
       "    <tr>\n",
       "      <th>1</th>\n",
       "      <td>Kenya</td>\n",
       "      <td>Agriculture</td>\n",
       "      <td>Farming</td>\n",
       "      <td>20555</td>\n",
       "    </tr>\n",
       "    <tr>\n",
       "      <th>2</th>\n",
       "      <td>Philippines</td>\n",
       "      <td>Agriculture</td>\n",
       "      <td>Pigs</td>\n",
       "      <td>19985</td>\n",
       "    </tr>\n",
       "    <tr>\n",
       "      <th>3</th>\n",
       "      <td>Cambodia</td>\n",
       "      <td>Personal Use</td>\n",
       "      <td>Home Appliances</td>\n",
       "      <td>16362</td>\n",
       "    </tr>\n",
       "    <tr>\n",
       "      <th>4</th>\n",
       "      <td>Philippines</td>\n",
       "      <td>Agriculture</td>\n",
       "      <td>Farming</td>\n",
       "      <td>11924</td>\n",
       "    </tr>\n",
       "    <tr>\n",
       "      <th>...</th>\n",
       "      <td>...</td>\n",
       "      <td>...</td>\n",
       "      <td>...</td>\n",
       "      <td>...</td>\n",
       "    </tr>\n",
       "    <tr>\n",
       "      <th>6265</th>\n",
       "      <td>Moldova</td>\n",
       "      <td>Food</td>\n",
       "      <td>Bakery</td>\n",
       "      <td>1</td>\n",
       "    </tr>\n",
       "    <tr>\n",
       "      <th>6266</th>\n",
       "      <td>Moldova</td>\n",
       "      <td>Education</td>\n",
       "      <td>Higher education costs</td>\n",
       "      <td>1</td>\n",
       "    </tr>\n",
       "    <tr>\n",
       "      <th>6267</th>\n",
       "      <td>Moldova</td>\n",
       "      <td>Construction</td>\n",
       "      <td>Well digging</td>\n",
       "      <td>1</td>\n",
       "    </tr>\n",
       "    <tr>\n",
       "      <th>6268</th>\n",
       "      <td>Moldova</td>\n",
       "      <td>Construction</td>\n",
       "      <td>Cement</td>\n",
       "      <td>1</td>\n",
       "    </tr>\n",
       "    <tr>\n",
       "      <th>6269</th>\n",
       "      <td>Liberia</td>\n",
       "      <td>Services</td>\n",
       "      <td>Hotel</td>\n",
       "      <td>1</td>\n",
       "    </tr>\n",
       "  </tbody>\n",
       "</table>\n",
       "<p>6270 rows × 4 columns</p>\n",
       "</div>"
      ],
      "text/plain": [
       "          country        sector                activity  count\n",
       "0     Philippines        Retail           General Store  42960\n",
       "1           Kenya   Agriculture                 Farming  20555\n",
       "2     Philippines   Agriculture                    Pigs  19985\n",
       "3        Cambodia  Personal Use         Home Appliances  16362\n",
       "4     Philippines   Agriculture                 Farming  11924\n",
       "...           ...           ...                     ...    ...\n",
       "6265      Moldova          Food                  Bakery      1\n",
       "6266      Moldova     Education  Higher education costs      1\n",
       "6267      Moldova  Construction            Well digging      1\n",
       "6268      Moldova  Construction                  Cement      1\n",
       "6269      Liberia      Services                   Hotel      1\n",
       "\n",
       "[6270 rows x 4 columns]"
      ]
     },
     "execution_count": 27,
     "metadata": {},
     "output_type": "execute_result"
    }
   ],
   "source": [
    "# Why? What for?\n",
    "df2 = df[['country', 'sector', 'activity']].value_counts().sort_values(ascending=False).reset_index()\n",
    "df2"
   ]
  },
  {
   "cell_type": "markdown",
   "metadata": {},
   "source": [
    "There are 6270 data, that shows Countries, Sectors, and Activities, and how much is the loan request are?\n",
    "- now let's dropping the duplicates and see."
   ]
  },
  {
   "cell_type": "code",
   "execution_count": 28,
   "metadata": {},
   "outputs": [
    {
     "data": {
      "text/html": [
       "<div>\n",
       "<style scoped>\n",
       "    .dataframe tbody tr th:only-of-type {\n",
       "        vertical-align: middle;\n",
       "    }\n",
       "\n",
       "    .dataframe tbody tr th {\n",
       "        vertical-align: top;\n",
       "    }\n",
       "\n",
       "    .dataframe thead th {\n",
       "        text-align: right;\n",
       "    }\n",
       "</style>\n",
       "<table border=\"1\" class=\"dataframe\">\n",
       "  <thead>\n",
       "    <tr style=\"text-align: right;\">\n",
       "      <th></th>\n",
       "      <th>country</th>\n",
       "      <th>sector</th>\n",
       "      <th>activity</th>\n",
       "      <th>count</th>\n",
       "    </tr>\n",
       "  </thead>\n",
       "  <tbody>\n",
       "    <tr>\n",
       "      <th>0</th>\n",
       "      <td>Philippines</td>\n",
       "      <td>Retail</td>\n",
       "      <td>General Store</td>\n",
       "      <td>42960</td>\n",
       "    </tr>\n",
       "    <tr>\n",
       "      <th>1</th>\n",
       "      <td>Kenya</td>\n",
       "      <td>Agriculture</td>\n",
       "      <td>Farming</td>\n",
       "      <td>20555</td>\n",
       "    </tr>\n",
       "    <tr>\n",
       "      <th>2</th>\n",
       "      <td>Philippines</td>\n",
       "      <td>Agriculture</td>\n",
       "      <td>Pigs</td>\n",
       "      <td>19985</td>\n",
       "    </tr>\n",
       "    <tr>\n",
       "      <th>3</th>\n",
       "      <td>Cambodia</td>\n",
       "      <td>Personal Use</td>\n",
       "      <td>Home Appliances</td>\n",
       "      <td>16362</td>\n",
       "    </tr>\n",
       "    <tr>\n",
       "      <th>4</th>\n",
       "      <td>Philippines</td>\n",
       "      <td>Agriculture</td>\n",
       "      <td>Farming</td>\n",
       "      <td>11924</td>\n",
       "    </tr>\n",
       "    <tr>\n",
       "      <th>5</th>\n",
       "      <td>Philippines</td>\n",
       "      <td>Food</td>\n",
       "      <td>Fish Selling</td>\n",
       "      <td>9060</td>\n",
       "    </tr>\n",
       "    <tr>\n",
       "      <th>6</th>\n",
       "      <td>Philippines</td>\n",
       "      <td>Food</td>\n",
       "      <td>Fishing</td>\n",
       "      <td>8682</td>\n",
       "    </tr>\n",
       "    <tr>\n",
       "      <th>7</th>\n",
       "      <td>Philippines</td>\n",
       "      <td>Food</td>\n",
       "      <td>Food Production/Sales</td>\n",
       "      <td>8675</td>\n",
       "    </tr>\n",
       "    <tr>\n",
       "      <th>8</th>\n",
       "      <td>Cambodia</td>\n",
       "      <td>Agriculture</td>\n",
       "      <td>Farming</td>\n",
       "      <td>8545</td>\n",
       "    </tr>\n",
       "    <tr>\n",
       "      <th>9</th>\n",
       "      <td>Philippines</td>\n",
       "      <td>Housing</td>\n",
       "      <td>Personal Housing Expenses</td>\n",
       "      <td>6591</td>\n",
       "    </tr>\n",
       "  </tbody>\n",
       "</table>\n",
       "</div>"
      ],
      "text/plain": [
       "       country        sector                   activity  count\n",
       "0  Philippines        Retail              General Store  42960\n",
       "1        Kenya   Agriculture                    Farming  20555\n",
       "2  Philippines   Agriculture                       Pigs  19985\n",
       "3     Cambodia  Personal Use            Home Appliances  16362\n",
       "4  Philippines   Agriculture                    Farming  11924\n",
       "5  Philippines          Food               Fish Selling   9060\n",
       "6  Philippines          Food                    Fishing   8682\n",
       "7  Philippines          Food      Food Production/Sales   8675\n",
       "8     Cambodia   Agriculture                    Farming   8545\n",
       "9  Philippines       Housing  Personal Housing Expenses   6591"
      ]
     },
     "execution_count": 28,
     "metadata": {},
     "output_type": "execute_result"
    }
   ],
   "source": [
    "# Why? What for?\n",
    "df2= df[['country', 'sector', 'activity']].value_counts(ascending=False).reset_index().drop_duplicates().head(10)\n",
    "df2"
   ]
  },
  {
   "cell_type": "markdown",
   "metadata": {},
   "source": [
    "Showing the top 3 Countries that shows up a lot, also the sector and the category that shows up the most from each countries in Sunburst visualization."
   ]
  },
  {
   "cell_type": "code",
   "execution_count": 29,
   "metadata": {},
   "outputs": [
    {
     "data": {
      "application/vnd.plotly.v1+json": {
       "config": {
        "plotlyServerURL": "https://plot.ly"
       },
       "data": [
        {
         "branchvalues": "total",
         "customdata": [
          [
           "Philippines"
          ],
          [
           "Philippines"
          ],
          [
           "Kenya"
          ],
          [
           "Cambodia"
          ],
          [
           "Philippines"
          ],
          [
           "Philippines"
          ],
          [
           "Philippines"
          ],
          [
           "Philippines"
          ],
          [
           "Cambodia"
          ],
          [
           "Philippines"
          ],
          [
           "Cambodia"
          ],
          [
           "Kenya"
          ],
          [
           "Philippines"
          ],
          [
           "Philippines"
          ],
          [
           "Philippines"
          ],
          [
           "Cambodia"
          ],
          [
           "Philippines"
          ],
          [
           "Cambodia"
          ],
          [
           "Kenya"
          ],
          [
           "Philippines"
          ]
         ],
         "domain": {
          "x": [
           0,
           1
          ],
          "y": [
           0,
           1
          ]
         },
         "hovertemplate": "labels=%{label}<br>count=%{value}<br>parent=%{parent}<br>id=%{id}<br>country=%{customdata[0]}<extra></extra>",
         "ids": [
          "Philippines/Food/Fish Selling",
          "Philippines/Housing/Personal Housing Expenses",
          "Kenya/Agriculture/Farming",
          "Cambodia/Agriculture/Farming",
          "Philippines/Agriculture/Farming",
          "Philippines/Food/Fishing",
          "Philippines/Food/Food Production/Sales",
          "Philippines/Retail/General Store",
          "Cambodia/Personal Use/Home Appliances",
          "Philippines/Agriculture/Pigs",
          "Cambodia/Agriculture",
          "Kenya/Agriculture",
          "Philippines/Agriculture",
          "Philippines/Food",
          "Philippines/Housing",
          "Cambodia/Personal Use",
          "Philippines/Retail",
          "Cambodia",
          "Kenya",
          "Philippines"
         ],
         "labels": [
          "Fish Selling",
          "Personal Housing Expenses",
          "Farming",
          "Farming",
          "Farming",
          "Fishing",
          "Food Production/Sales",
          "General Store",
          "Home Appliances",
          "Pigs",
          "Agriculture",
          "Agriculture",
          "Agriculture",
          "Food",
          "Housing",
          "Personal Use",
          "Retail",
          "Cambodia",
          "Kenya",
          "Philippines"
         ],
         "marker": {
          "colors": [
           "rgb(102, 197, 204)",
           "rgb(102, 197, 204)",
           "rgb(246, 207, 113)",
           "rgb(248, 156, 116)",
           "rgb(102, 197, 204)",
           "rgb(102, 197, 204)",
           "rgb(102, 197, 204)",
           "rgb(102, 197, 204)",
           "rgb(248, 156, 116)",
           "rgb(102, 197, 204)",
           "rgb(248, 156, 116)",
           "rgb(246, 207, 113)",
           "rgb(102, 197, 204)",
           "rgb(102, 197, 204)",
           "rgb(102, 197, 204)",
           "rgb(248, 156, 116)",
           "rgb(102, 197, 204)",
           "rgb(248, 156, 116)",
           "rgb(246, 207, 113)",
           "rgb(102, 197, 204)"
          ]
         },
         "name": "",
         "parents": [
          "Philippines/Food",
          "Philippines/Housing",
          "Kenya/Agriculture",
          "Cambodia/Agriculture",
          "Philippines/Agriculture",
          "Philippines/Food",
          "Philippines/Food",
          "Philippines/Retail",
          "Cambodia/Personal Use",
          "Philippines/Agriculture",
          "Cambodia",
          "Kenya",
          "Philippines",
          "Philippines",
          "Philippines",
          "Cambodia",
          "Philippines",
          "",
          "",
          ""
         ],
         "type": "sunburst",
         "values": [
          9060,
          6591,
          20555,
          8545,
          11924,
          8682,
          8675,
          42960,
          16362,
          19985,
          8545,
          20555,
          31909,
          26417,
          6591,
          16362,
          42960,
          24907,
          20555,
          107877
         ]
        }
       ],
       "layout": {
        "height": 1000,
        "legend": {
         "tracegroupgap": 0
        },
        "sunburstcolorway": [
         "rgb(102, 197, 204)",
         "rgb(246, 207, 113)",
         "rgb(248, 156, 116)",
         "rgb(220, 176, 242)",
         "rgb(135, 197, 95)",
         "rgb(158, 185, 243)",
         "rgb(254, 136, 177)",
         "rgb(201, 219, 116)",
         "rgb(139, 224, 164)",
         "rgb(180, 151, 231)",
         "rgb(179, 179, 179)"
        ],
        "template": {
         "data": {
          "bar": [
           {
            "error_x": {
             "color": "#2a3f5f"
            },
            "error_y": {
             "color": "#2a3f5f"
            },
            "marker": {
             "line": {
              "color": "#E5ECF6",
              "width": 0.5
             },
             "pattern": {
              "fillmode": "overlay",
              "size": 10,
              "solidity": 0.2
             }
            },
            "type": "bar"
           }
          ],
          "barpolar": [
           {
            "marker": {
             "line": {
              "color": "#E5ECF6",
              "width": 0.5
             },
             "pattern": {
              "fillmode": "overlay",
              "size": 10,
              "solidity": 0.2
             }
            },
            "type": "barpolar"
           }
          ],
          "carpet": [
           {
            "aaxis": {
             "endlinecolor": "#2a3f5f",
             "gridcolor": "white",
             "linecolor": "white",
             "minorgridcolor": "white",
             "startlinecolor": "#2a3f5f"
            },
            "baxis": {
             "endlinecolor": "#2a3f5f",
             "gridcolor": "white",
             "linecolor": "white",
             "minorgridcolor": "white",
             "startlinecolor": "#2a3f5f"
            },
            "type": "carpet"
           }
          ],
          "choropleth": [
           {
            "colorbar": {
             "outlinewidth": 0,
             "ticks": ""
            },
            "type": "choropleth"
           }
          ],
          "contour": [
           {
            "colorbar": {
             "outlinewidth": 0,
             "ticks": ""
            },
            "colorscale": [
             [
              0,
              "#0d0887"
             ],
             [
              0.1111111111111111,
              "#46039f"
             ],
             [
              0.2222222222222222,
              "#7201a8"
             ],
             [
              0.3333333333333333,
              "#9c179e"
             ],
             [
              0.4444444444444444,
              "#bd3786"
             ],
             [
              0.5555555555555556,
              "#d8576b"
             ],
             [
              0.6666666666666666,
              "#ed7953"
             ],
             [
              0.7777777777777778,
              "#fb9f3a"
             ],
             [
              0.8888888888888888,
              "#fdca26"
             ],
             [
              1,
              "#f0f921"
             ]
            ],
            "type": "contour"
           }
          ],
          "contourcarpet": [
           {
            "colorbar": {
             "outlinewidth": 0,
             "ticks": ""
            },
            "type": "contourcarpet"
           }
          ],
          "heatmap": [
           {
            "colorbar": {
             "outlinewidth": 0,
             "ticks": ""
            },
            "colorscale": [
             [
              0,
              "#0d0887"
             ],
             [
              0.1111111111111111,
              "#46039f"
             ],
             [
              0.2222222222222222,
              "#7201a8"
             ],
             [
              0.3333333333333333,
              "#9c179e"
             ],
             [
              0.4444444444444444,
              "#bd3786"
             ],
             [
              0.5555555555555556,
              "#d8576b"
             ],
             [
              0.6666666666666666,
              "#ed7953"
             ],
             [
              0.7777777777777778,
              "#fb9f3a"
             ],
             [
              0.8888888888888888,
              "#fdca26"
             ],
             [
              1,
              "#f0f921"
             ]
            ],
            "type": "heatmap"
           }
          ],
          "heatmapgl": [
           {
            "colorbar": {
             "outlinewidth": 0,
             "ticks": ""
            },
            "colorscale": [
             [
              0,
              "#0d0887"
             ],
             [
              0.1111111111111111,
              "#46039f"
             ],
             [
              0.2222222222222222,
              "#7201a8"
             ],
             [
              0.3333333333333333,
              "#9c179e"
             ],
             [
              0.4444444444444444,
              "#bd3786"
             ],
             [
              0.5555555555555556,
              "#d8576b"
             ],
             [
              0.6666666666666666,
              "#ed7953"
             ],
             [
              0.7777777777777778,
              "#fb9f3a"
             ],
             [
              0.8888888888888888,
              "#fdca26"
             ],
             [
              1,
              "#f0f921"
             ]
            ],
            "type": "heatmapgl"
           }
          ],
          "histogram": [
           {
            "marker": {
             "pattern": {
              "fillmode": "overlay",
              "size": 10,
              "solidity": 0.2
             }
            },
            "type": "histogram"
           }
          ],
          "histogram2d": [
           {
            "colorbar": {
             "outlinewidth": 0,
             "ticks": ""
            },
            "colorscale": [
             [
              0,
              "#0d0887"
             ],
             [
              0.1111111111111111,
              "#46039f"
             ],
             [
              0.2222222222222222,
              "#7201a8"
             ],
             [
              0.3333333333333333,
              "#9c179e"
             ],
             [
              0.4444444444444444,
              "#bd3786"
             ],
             [
              0.5555555555555556,
              "#d8576b"
             ],
             [
              0.6666666666666666,
              "#ed7953"
             ],
             [
              0.7777777777777778,
              "#fb9f3a"
             ],
             [
              0.8888888888888888,
              "#fdca26"
             ],
             [
              1,
              "#f0f921"
             ]
            ],
            "type": "histogram2d"
           }
          ],
          "histogram2dcontour": [
           {
            "colorbar": {
             "outlinewidth": 0,
             "ticks": ""
            },
            "colorscale": [
             [
              0,
              "#0d0887"
             ],
             [
              0.1111111111111111,
              "#46039f"
             ],
             [
              0.2222222222222222,
              "#7201a8"
             ],
             [
              0.3333333333333333,
              "#9c179e"
             ],
             [
              0.4444444444444444,
              "#bd3786"
             ],
             [
              0.5555555555555556,
              "#d8576b"
             ],
             [
              0.6666666666666666,
              "#ed7953"
             ],
             [
              0.7777777777777778,
              "#fb9f3a"
             ],
             [
              0.8888888888888888,
              "#fdca26"
             ],
             [
              1,
              "#f0f921"
             ]
            ],
            "type": "histogram2dcontour"
           }
          ],
          "mesh3d": [
           {
            "colorbar": {
             "outlinewidth": 0,
             "ticks": ""
            },
            "type": "mesh3d"
           }
          ],
          "parcoords": [
           {
            "line": {
             "colorbar": {
              "outlinewidth": 0,
              "ticks": ""
             }
            },
            "type": "parcoords"
           }
          ],
          "pie": [
           {
            "automargin": true,
            "type": "pie"
           }
          ],
          "scatter": [
           {
            "fillpattern": {
             "fillmode": "overlay",
             "size": 10,
             "solidity": 0.2
            },
            "type": "scatter"
           }
          ],
          "scatter3d": [
           {
            "line": {
             "colorbar": {
              "outlinewidth": 0,
              "ticks": ""
             }
            },
            "marker": {
             "colorbar": {
              "outlinewidth": 0,
              "ticks": ""
             }
            },
            "type": "scatter3d"
           }
          ],
          "scattercarpet": [
           {
            "marker": {
             "colorbar": {
              "outlinewidth": 0,
              "ticks": ""
             }
            },
            "type": "scattercarpet"
           }
          ],
          "scattergeo": [
           {
            "marker": {
             "colorbar": {
              "outlinewidth": 0,
              "ticks": ""
             }
            },
            "type": "scattergeo"
           }
          ],
          "scattergl": [
           {
            "marker": {
             "colorbar": {
              "outlinewidth": 0,
              "ticks": ""
             }
            },
            "type": "scattergl"
           }
          ],
          "scattermapbox": [
           {
            "marker": {
             "colorbar": {
              "outlinewidth": 0,
              "ticks": ""
             }
            },
            "type": "scattermapbox"
           }
          ],
          "scatterpolar": [
           {
            "marker": {
             "colorbar": {
              "outlinewidth": 0,
              "ticks": ""
             }
            },
            "type": "scatterpolar"
           }
          ],
          "scatterpolargl": [
           {
            "marker": {
             "colorbar": {
              "outlinewidth": 0,
              "ticks": ""
             }
            },
            "type": "scatterpolargl"
           }
          ],
          "scatterternary": [
           {
            "marker": {
             "colorbar": {
              "outlinewidth": 0,
              "ticks": ""
             }
            },
            "type": "scatterternary"
           }
          ],
          "surface": [
           {
            "colorbar": {
             "outlinewidth": 0,
             "ticks": ""
            },
            "colorscale": [
             [
              0,
              "#0d0887"
             ],
             [
              0.1111111111111111,
              "#46039f"
             ],
             [
              0.2222222222222222,
              "#7201a8"
             ],
             [
              0.3333333333333333,
              "#9c179e"
             ],
             [
              0.4444444444444444,
              "#bd3786"
             ],
             [
              0.5555555555555556,
              "#d8576b"
             ],
             [
              0.6666666666666666,
              "#ed7953"
             ],
             [
              0.7777777777777778,
              "#fb9f3a"
             ],
             [
              0.8888888888888888,
              "#fdca26"
             ],
             [
              1,
              "#f0f921"
             ]
            ],
            "type": "surface"
           }
          ],
          "table": [
           {
            "cells": {
             "fill": {
              "color": "#EBF0F8"
             },
             "line": {
              "color": "white"
             }
            },
            "header": {
             "fill": {
              "color": "#C8D4E3"
             },
             "line": {
              "color": "white"
             }
            },
            "type": "table"
           }
          ]
         },
         "layout": {
          "annotationdefaults": {
           "arrowcolor": "#2a3f5f",
           "arrowhead": 0,
           "arrowwidth": 1
          },
          "autotypenumbers": "strict",
          "coloraxis": {
           "colorbar": {
            "outlinewidth": 0,
            "ticks": ""
           }
          },
          "colorscale": {
           "diverging": [
            [
             0,
             "#8e0152"
            ],
            [
             0.1,
             "#c51b7d"
            ],
            [
             0.2,
             "#de77ae"
            ],
            [
             0.3,
             "#f1b6da"
            ],
            [
             0.4,
             "#fde0ef"
            ],
            [
             0.5,
             "#f7f7f7"
            ],
            [
             0.6,
             "#e6f5d0"
            ],
            [
             0.7,
             "#b8e186"
            ],
            [
             0.8,
             "#7fbc41"
            ],
            [
             0.9,
             "#4d9221"
            ],
            [
             1,
             "#276419"
            ]
           ],
           "sequential": [
            [
             0,
             "#0d0887"
            ],
            [
             0.1111111111111111,
             "#46039f"
            ],
            [
             0.2222222222222222,
             "#7201a8"
            ],
            [
             0.3333333333333333,
             "#9c179e"
            ],
            [
             0.4444444444444444,
             "#bd3786"
            ],
            [
             0.5555555555555556,
             "#d8576b"
            ],
            [
             0.6666666666666666,
             "#ed7953"
            ],
            [
             0.7777777777777778,
             "#fb9f3a"
            ],
            [
             0.8888888888888888,
             "#fdca26"
            ],
            [
             1,
             "#f0f921"
            ]
           ],
           "sequentialminus": [
            [
             0,
             "#0d0887"
            ],
            [
             0.1111111111111111,
             "#46039f"
            ],
            [
             0.2222222222222222,
             "#7201a8"
            ],
            [
             0.3333333333333333,
             "#9c179e"
            ],
            [
             0.4444444444444444,
             "#bd3786"
            ],
            [
             0.5555555555555556,
             "#d8576b"
            ],
            [
             0.6666666666666666,
             "#ed7953"
            ],
            [
             0.7777777777777778,
             "#fb9f3a"
            ],
            [
             0.8888888888888888,
             "#fdca26"
            ],
            [
             1,
             "#f0f921"
            ]
           ]
          },
          "colorway": [
           "#636efa",
           "#EF553B",
           "#00cc96",
           "#ab63fa",
           "#FFA15A",
           "#19d3f3",
           "#FF6692",
           "#B6E880",
           "#FF97FF",
           "#FECB52"
          ],
          "font": {
           "color": "#2a3f5f"
          },
          "geo": {
           "bgcolor": "white",
           "lakecolor": "white",
           "landcolor": "#E5ECF6",
           "showlakes": true,
           "showland": true,
           "subunitcolor": "white"
          },
          "hoverlabel": {
           "align": "left"
          },
          "hovermode": "closest",
          "mapbox": {
           "style": "light"
          },
          "paper_bgcolor": "white",
          "plot_bgcolor": "#E5ECF6",
          "polar": {
           "angularaxis": {
            "gridcolor": "white",
            "linecolor": "white",
            "ticks": ""
           },
           "bgcolor": "#E5ECF6",
           "radialaxis": {
            "gridcolor": "white",
            "linecolor": "white",
            "ticks": ""
           }
          },
          "scene": {
           "xaxis": {
            "backgroundcolor": "#E5ECF6",
            "gridcolor": "white",
            "gridwidth": 2,
            "linecolor": "white",
            "showbackground": true,
            "ticks": "",
            "zerolinecolor": "white"
           },
           "yaxis": {
            "backgroundcolor": "#E5ECF6",
            "gridcolor": "white",
            "gridwidth": 2,
            "linecolor": "white",
            "showbackground": true,
            "ticks": "",
            "zerolinecolor": "white"
           },
           "zaxis": {
            "backgroundcolor": "#E5ECF6",
            "gridcolor": "white",
            "gridwidth": 2,
            "linecolor": "white",
            "showbackground": true,
            "ticks": "",
            "zerolinecolor": "white"
           }
          },
          "shapedefaults": {
           "line": {
            "color": "#2a3f5f"
           }
          },
          "ternary": {
           "aaxis": {
            "gridcolor": "white",
            "linecolor": "white",
            "ticks": ""
           },
           "baxis": {
            "gridcolor": "white",
            "linecolor": "white",
            "ticks": ""
           },
           "bgcolor": "#E5ECF6",
           "caxis": {
            "gridcolor": "white",
            "linecolor": "white",
            "ticks": ""
           }
          },
          "title": {
           "x": 0.05
          },
          "xaxis": {
           "automargin": true,
           "gridcolor": "white",
           "linecolor": "white",
           "ticks": "",
           "title": {
            "standoff": 15
           },
           "zerolinecolor": "white",
           "zerolinewidth": 2
          },
          "yaxis": {
           "automargin": true,
           "gridcolor": "white",
           "linecolor": "white",
           "ticks": "",
           "title": {
            "standoff": 15
           },
           "zerolinecolor": "white",
           "zerolinewidth": 2
          }
         }
        },
        "title": {
         "text": "Top 3 Countries by Sector and Activity",
         "x": 0.5
        },
        "width": 1000
       }
      }
     },
     "metadata": {},
     "output_type": "display_data"
    }
   ],
   "source": [
    "fig = px.sunburst(\n",
    "    df2,\n",
    "    path=['country', 'sector', 'activity'],\n",
    "    values='count',\n",
    "    color='country',\n",
    "    color_discrete_sequence=px.colors.qualitative.Pastel,\n",
    "    title='Top 3 Countries by Sector and Activity',\n",
    "    width= 1000, # size\n",
    "    height= 1000 # size\n",
    ")\n",
    "\n",
    "fig.update_layout(title_x=0.5)\n",
    "fig.show()"
   ]
  },
  {
   "cell_type": "markdown",
   "metadata": {},
   "source": [
    "> Insight!\n",
    "Top 3 Country for sector and activity count the most are:\n",
    "1. Philippines for:\n",
    "   -  `Retail`, all of them planned to use it for General Store Retail: 42.960 people\n",
    "   -  `Agriculture`:\n",
    "       - `Farming`: 11.924 people for farming.\n",
    "       - `Pigs`: 19.985 people for breeding pigs in their farms/barns.\n",
    "   - `Food`:\n",
    "           - `Fish Selling`: 9.060 people for Fish Selling business\n",
    "           - `Fishing`: 8.682 people for fishing needs.\n",
    "           - Food `Production/Sales`: 8675 people\n",
    "2. `Kenya` for `Agriculture and Farming`: 20.555 people, all of them goes straight for Farming in Agiculture business.\n",
    "3. `Cambodia` for :\n",
    "    - `Personal Use`, 16.362 people for their personal use to support their daily life.\n",
    "    - `Agriculture & Farming` 8.585 people, all of them goes straight for Farming, in Agriculture business."
   ]
  },
  {
   "cell_type": "markdown",
   "metadata": {},
   "source": [
    "---\n",
    "---"
   ]
  },
  {
   "cell_type": "markdown",
   "metadata": {},
   "source": [
    "### Top 10 category (Sector & Activity) that most & least funded by Lender Count?\n"
   ]
  },
  {
   "cell_type": "code",
   "execution_count": 30,
   "metadata": {},
   "outputs": [
    {
     "data": {
      "text/html": [
       "<div>\n",
       "<style scoped>\n",
       "    .dataframe tbody tr th:only-of-type {\n",
       "        vertical-align: middle;\n",
       "    }\n",
       "\n",
       "    .dataframe tbody tr th {\n",
       "        vertical-align: top;\n",
       "    }\n",
       "\n",
       "    .dataframe thead th {\n",
       "        text-align: right;\n",
       "    }\n",
       "</style>\n",
       "<table border=\"1\" class=\"dataframe\">\n",
       "  <thead>\n",
       "    <tr style=\"text-align: right;\">\n",
       "      <th></th>\n",
       "      <th>sector</th>\n",
       "      <th>activity</th>\n",
       "      <th>lender_count</th>\n",
       "      <th>count</th>\n",
       "    </tr>\n",
       "  </thead>\n",
       "  <tbody>\n",
       "    <tr>\n",
       "      <th>0</th>\n",
       "      <td>Retail</td>\n",
       "      <td>General Store</td>\n",
       "      <td>1</td>\n",
       "      <td>7122</td>\n",
       "    </tr>\n",
       "    <tr>\n",
       "      <th>1</th>\n",
       "      <td>Retail</td>\n",
       "      <td>General Store</td>\n",
       "      <td>9</td>\n",
       "      <td>4334</td>\n",
       "    </tr>\n",
       "    <tr>\n",
       "      <th>2</th>\n",
       "      <td>Retail</td>\n",
       "      <td>General Store</td>\n",
       "      <td>7</td>\n",
       "      <td>4110</td>\n",
       "    </tr>\n",
       "    <tr>\n",
       "      <th>3</th>\n",
       "      <td>Retail</td>\n",
       "      <td>General Store</td>\n",
       "      <td>5</td>\n",
       "      <td>4068</td>\n",
       "    </tr>\n",
       "    <tr>\n",
       "      <th>4</th>\n",
       "      <td>Retail</td>\n",
       "      <td>General Store</td>\n",
       "      <td>8</td>\n",
       "      <td>4053</td>\n",
       "    </tr>\n",
       "    <tr>\n",
       "      <th>5</th>\n",
       "      <td>Retail</td>\n",
       "      <td>General Store</td>\n",
       "      <td>6</td>\n",
       "      <td>3937</td>\n",
       "    </tr>\n",
       "    <tr>\n",
       "      <th>6</th>\n",
       "      <td>Personal Use</td>\n",
       "      <td>Home Appliances</td>\n",
       "      <td>4</td>\n",
       "      <td>3678</td>\n",
       "    </tr>\n",
       "    <tr>\n",
       "      <th>7</th>\n",
       "      <td>Agriculture</td>\n",
       "      <td>Farming</td>\n",
       "      <td>8</td>\n",
       "      <td>3666</td>\n",
       "    </tr>\n",
       "    <tr>\n",
       "      <th>8</th>\n",
       "      <td>Personal Use</td>\n",
       "      <td>Home Appliances</td>\n",
       "      <td>5</td>\n",
       "      <td>3459</td>\n",
       "    </tr>\n",
       "    <tr>\n",
       "      <th>9</th>\n",
       "      <td>Agriculture</td>\n",
       "      <td>Farming</td>\n",
       "      <td>6</td>\n",
       "      <td>3280</td>\n",
       "    </tr>\n",
       "  </tbody>\n",
       "</table>\n",
       "</div>"
      ],
      "text/plain": [
       "         sector         activity  lender_count  count\n",
       "0        Retail    General Store             1   7122\n",
       "1        Retail    General Store             9   4334\n",
       "2        Retail    General Store             7   4110\n",
       "3        Retail    General Store             5   4068\n",
       "4        Retail    General Store             8   4053\n",
       "5        Retail    General Store             6   3937\n",
       "6  Personal Use  Home Appliances             4   3678\n",
       "7   Agriculture          Farming             8   3666\n",
       "8  Personal Use  Home Appliances             5   3459\n",
       "9   Agriculture          Farming             6   3280"
      ]
     },
     "execution_count": 30,
     "metadata": {},
     "output_type": "execute_result"
    }
   ],
   "source": [
    "df3 = df[['sector', 'activity', 'lender_count']].value_counts().reset_index().head(10)\n",
    "df3"
   ]
  },
  {
   "cell_type": "code",
   "execution_count": 31,
   "metadata": {},
   "outputs": [
    {
     "data": {
      "text/html": [
       "<div>\n",
       "<style scoped>\n",
       "    .dataframe tbody tr th:only-of-type {\n",
       "        vertical-align: middle;\n",
       "    }\n",
       "\n",
       "    .dataframe tbody tr th {\n",
       "        vertical-align: top;\n",
       "    }\n",
       "\n",
       "    .dataframe thead th {\n",
       "        text-align: right;\n",
       "    }\n",
       "</style>\n",
       "<table border=\"1\" class=\"dataframe\">\n",
       "  <thead>\n",
       "    <tr style=\"text-align: right;\">\n",
       "      <th></th>\n",
       "      <th>sector</th>\n",
       "      <th>activity</th>\n",
       "      <th>total_lenders</th>\n",
       "    </tr>\n",
       "  </thead>\n",
       "  <tbody>\n",
       "    <tr>\n",
       "      <th>0</th>\n",
       "      <td>Agriculture</td>\n",
       "      <td>Agriculture</td>\n",
       "      <td>726760</td>\n",
       "    </tr>\n",
       "    <tr>\n",
       "      <th>1</th>\n",
       "      <td>Agriculture</td>\n",
       "      <td>Animal Sales</td>\n",
       "      <td>255834</td>\n",
       "    </tr>\n",
       "    <tr>\n",
       "      <th>2</th>\n",
       "      <td>Agriculture</td>\n",
       "      <td>Aquaculture</td>\n",
       "      <td>2077</td>\n",
       "    </tr>\n",
       "    <tr>\n",
       "      <th>3</th>\n",
       "      <td>Agriculture</td>\n",
       "      <td>Beekeeping</td>\n",
       "      <td>2140</td>\n",
       "    </tr>\n",
       "    <tr>\n",
       "      <th>4</th>\n",
       "      <td>Agriculture</td>\n",
       "      <td>Cattle</td>\n",
       "      <td>204180</td>\n",
       "    </tr>\n",
       "    <tr>\n",
       "      <th>...</th>\n",
       "      <td>...</td>\n",
       "      <td>...</td>\n",
       "      <td>...</td>\n",
       "    </tr>\n",
       "    <tr>\n",
       "      <th>158</th>\n",
       "      <td>Transportation</td>\n",
       "      <td>Rickshaw</td>\n",
       "      <td>42505</td>\n",
       "    </tr>\n",
       "    <tr>\n",
       "      <th>159</th>\n",
       "      <td>Transportation</td>\n",
       "      <td>Taxi</td>\n",
       "      <td>65101</td>\n",
       "    </tr>\n",
       "    <tr>\n",
       "      <th>160</th>\n",
       "      <td>Transportation</td>\n",
       "      <td>Transportation</td>\n",
       "      <td>81669</td>\n",
       "    </tr>\n",
       "    <tr>\n",
       "      <th>161</th>\n",
       "      <td>Wholesale</td>\n",
       "      <td>Goods Distribution</td>\n",
       "      <td>13337</td>\n",
       "    </tr>\n",
       "    <tr>\n",
       "      <th>162</th>\n",
       "      <td>Wholesale</td>\n",
       "      <td>Wholesale</td>\n",
       "      <td>14187</td>\n",
       "    </tr>\n",
       "  </tbody>\n",
       "</table>\n",
       "<p>163 rows × 3 columns</p>\n",
       "</div>"
      ],
      "text/plain": [
       "             sector            activity  total_lenders\n",
       "0       Agriculture         Agriculture         726760\n",
       "1       Agriculture        Animal Sales         255834\n",
       "2       Agriculture         Aquaculture           2077\n",
       "3       Agriculture          Beekeeping           2140\n",
       "4       Agriculture              Cattle         204180\n",
       "..              ...                 ...            ...\n",
       "158  Transportation            Rickshaw          42505\n",
       "159  Transportation                Taxi          65101\n",
       "160  Transportation      Transportation          81669\n",
       "161       Wholesale  Goods Distribution          13337\n",
       "162       Wholesale           Wholesale          14187\n",
       "\n",
       "[163 rows x 3 columns]"
      ]
     },
     "execution_count": 31,
     "metadata": {},
     "output_type": "execute_result"
    }
   ],
   "source": [
    "# Total lenders per sector-activity\n",
    "df3 = df.groupby(['sector', 'activity'])['lender_count'].sum().reset_index(name='total_lenders')\n",
    "df3"
   ]
  },
  {
   "cell_type": "code",
   "execution_count": 32,
   "metadata": {},
   "outputs": [
    {
     "data": {
      "text/html": [
       "<div>\n",
       "<style scoped>\n",
       "    .dataframe tbody tr th:only-of-type {\n",
       "        vertical-align: middle;\n",
       "    }\n",
       "\n",
       "    .dataframe tbody tr th {\n",
       "        vertical-align: top;\n",
       "    }\n",
       "\n",
       "    .dataframe thead th {\n",
       "        text-align: right;\n",
       "    }\n",
       "</style>\n",
       "<table border=\"1\" class=\"dataframe\">\n",
       "  <thead>\n",
       "    <tr style=\"text-align: right;\">\n",
       "      <th></th>\n",
       "      <th>sector</th>\n",
       "      <th>activity</th>\n",
       "      <th>total_lenders</th>\n",
       "    </tr>\n",
       "  </thead>\n",
       "  <tbody>\n",
       "    <tr>\n",
       "      <th>7</th>\n",
       "      <td>Agriculture</td>\n",
       "      <td>Farming</td>\n",
       "      <td>1388340</td>\n",
       "    </tr>\n",
       "    <tr>\n",
       "      <th>94</th>\n",
       "      <td>Retail</td>\n",
       "      <td>General Store</td>\n",
       "      <td>858478</td>\n",
       "    </tr>\n",
       "    <tr>\n",
       "      <th>0</th>\n",
       "      <td>Agriculture</td>\n",
       "      <td>Agriculture</td>\n",
       "      <td>726760</td>\n",
       "    </tr>\n",
       "    <tr>\n",
       "      <th>68</th>\n",
       "      <td>Housing</td>\n",
       "      <td>Personal Housing Expenses</td>\n",
       "      <td>616459</td>\n",
       "    </tr>\n",
       "    <tr>\n",
       "      <th>37</th>\n",
       "      <td>Education</td>\n",
       "      <td>Higher education costs</td>\n",
       "      <td>594626</td>\n",
       "    </tr>\n",
       "    <tr>\n",
       "      <th>54</th>\n",
       "      <td>Food</td>\n",
       "      <td>Food Production/Sales</td>\n",
       "      <td>562446</td>\n",
       "    </tr>\n",
       "    <tr>\n",
       "      <th>24</th>\n",
       "      <td>Clothing</td>\n",
       "      <td>Clothing Sales</td>\n",
       "      <td>544160</td>\n",
       "    </tr>\n",
       "    <tr>\n",
       "      <th>112</th>\n",
       "      <td>Retail</td>\n",
       "      <td>Retail</td>\n",
       "      <td>536292</td>\n",
       "    </tr>\n",
       "    <tr>\n",
       "      <th>10</th>\n",
       "      <td>Agriculture</td>\n",
       "      <td>Livestock</td>\n",
       "      <td>390893</td>\n",
       "    </tr>\n",
       "    <tr>\n",
       "      <th>57</th>\n",
       "      <td>Food</td>\n",
       "      <td>Grocery Store</td>\n",
       "      <td>346329</td>\n",
       "    </tr>\n",
       "  </tbody>\n",
       "</table>\n",
       "</div>"
      ],
      "text/plain": [
       "          sector                   activity  total_lenders\n",
       "7    Agriculture                    Farming        1388340\n",
       "94        Retail              General Store         858478\n",
       "0    Agriculture                Agriculture         726760\n",
       "68       Housing  Personal Housing Expenses         616459\n",
       "37     Education     Higher education costs         594626\n",
       "54          Food      Food Production/Sales         562446\n",
       "24      Clothing             Clothing Sales         544160\n",
       "112       Retail                     Retail         536292\n",
       "10   Agriculture                  Livestock         390893\n",
       "57          Food              Grocery Store         346329"
      ]
     },
     "execution_count": 32,
     "metadata": {},
     "output_type": "execute_result"
    }
   ],
   "source": [
    "# Top 10 most funded\n",
    "x1 = df3.sort_values('total_lenders', ascending=False).head(10)\n",
    "x1"
   ]
  },
  {
   "cell_type": "code",
   "execution_count": 33,
   "metadata": {},
   "outputs": [
    {
     "data": {
      "image/png": "[encoded data removed]",
      "text/plain": [
       "<Figure size 2000x1000 with 1 Axes>"
      ]
     },
     "metadata": {},
     "output_type": "display_data"
    }
   ],
   "source": [
    "plt.figure(figsize=(20, 10))\n",
    "sns.barplot(data=x1, x='total_lenders', y='activity', palette='viridis', hue='sector')\n",
    "plt.title('Top 10 Most Funded Sectors and Activities')\n",
    "plt.xlabel('Total Lenders')\n",
    "plt.ylabel('Activity')\n",
    "plt.legend(title='Sector')\n",
    "plt.show()"
   ]
  },
  {
   "cell_type": "markdown",
   "metadata": {},
   "source": [
    "Top 10 category activity most funded by lenders:\n",
    "1. Farming\n",
    "2. General Store\n",
    "3. Agriculture\n",
    "4. Personal Housing Expenses\n",
    "5. Higher education cost\n",
    "6. Food Production/Sales\n",
    "7. Clothing Sales\n",
    "8. Retail\n",
    "9. Livestock\n",
    "10. Grocery Store\n"
   ]
  },
  {
   "cell_type": "code",
   "execution_count": 34,
   "metadata": {},
   "outputs": [
    {
     "data": {
      "text/html": [
       "<div>\n",
       "<style scoped>\n",
       "    .dataframe tbody tr th:only-of-type {\n",
       "        vertical-align: middle;\n",
       "    }\n",
       "\n",
       "    .dataframe tbody tr th {\n",
       "        vertical-align: top;\n",
       "    }\n",
       "\n",
       "    .dataframe thead th {\n",
       "        text-align: right;\n",
       "    }\n",
       "</style>\n",
       "<table border=\"1\" class=\"dataframe\">\n",
       "  <thead>\n",
       "    <tr style=\"text-align: right;\">\n",
       "      <th></th>\n",
       "      <th>sector</th>\n",
       "      <th>activity</th>\n",
       "      <th>total_lenders</th>\n",
       "    </tr>\n",
       "  </thead>\n",
       "  <tbody>\n",
       "    <tr>\n",
       "      <th>76</th>\n",
       "      <td>Personal Use</td>\n",
       "      <td>Celebrations</td>\n",
       "      <td>50</td>\n",
       "    </tr>\n",
       "    <tr>\n",
       "      <th>118</th>\n",
       "      <td>Services</td>\n",
       "      <td>Adult Care</td>\n",
       "      <td>103</td>\n",
       "    </tr>\n",
       "    <tr>\n",
       "      <th>75</th>\n",
       "      <td>Manufacturing</td>\n",
       "      <td>Personal Care Products</td>\n",
       "      <td>141</td>\n",
       "    </tr>\n",
       "    <tr>\n",
       "      <th>134</th>\n",
       "      <td>Services</td>\n",
       "      <td>Event Planning</td>\n",
       "      <td>241</td>\n",
       "    </tr>\n",
       "    <tr>\n",
       "      <th>20</th>\n",
       "      <td>Arts</td>\n",
       "      <td>Patchwork</td>\n",
       "      <td>478</td>\n",
       "    </tr>\n",
       "    <tr>\n",
       "      <th>43</th>\n",
       "      <td>Food</td>\n",
       "      <td>Balut-Making</td>\n",
       "      <td>711</td>\n",
       "    </tr>\n",
       "    <tr>\n",
       "      <th>17</th>\n",
       "      <td>Arts</td>\n",
       "      <td>Film</td>\n",
       "      <td>815</td>\n",
       "    </tr>\n",
       "    <tr>\n",
       "      <th>124</th>\n",
       "      <td>Services</td>\n",
       "      <td>Bookbinding</td>\n",
       "      <td>1011</td>\n",
       "    </tr>\n",
       "    <tr>\n",
       "      <th>119</th>\n",
       "      <td>Services</td>\n",
       "      <td>Air Conditioning</td>\n",
       "      <td>1159</td>\n",
       "    </tr>\n",
       "    <tr>\n",
       "      <th>78</th>\n",
       "      <td>Personal Use</td>\n",
       "      <td>Funerals</td>\n",
       "      <td>1221</td>\n",
       "    </tr>\n",
       "  </tbody>\n",
       "</table>\n",
       "</div>"
      ],
      "text/plain": [
       "            sector                activity  total_lenders\n",
       "76    Personal Use            Celebrations             50\n",
       "118       Services              Adult Care            103\n",
       "75   Manufacturing  Personal Care Products            141\n",
       "134       Services          Event Planning            241\n",
       "20            Arts               Patchwork            478\n",
       "43            Food            Balut-Making            711\n",
       "17            Arts                    Film            815\n",
       "124       Services             Bookbinding           1011\n",
       "119       Services        Air Conditioning           1159\n",
       "78    Personal Use                Funerals           1221"
      ]
     },
     "execution_count": 34,
     "metadata": {},
     "output_type": "execute_result"
    }
   ],
   "source": [
    "# Top 10 least funded \n",
    "x2 = df3.sort_values('total_lenders', ascending=True).head(10)\n",
    "x2"
   ]
  },
  {
   "cell_type": "code",
   "execution_count": 35,
   "metadata": {},
   "outputs": [
    {
     "data": {
      "image/png": "[encoded data removed]",
      "text/plain": [
       "<Figure size 1200x800 with 1 Axes>"
      ]
     },
     "metadata": {},
     "output_type": "display_data"
    }
   ],
   "source": [
    "plt.figure(figsize=(12, 8))\n",
    "sns.barplot(data=x2, x='total_lenders', y='activity', palette='Spectral', hue='sector')\n",
    "plt.title('Top 10 Least Funded Sectors and Activities')\n",
    "plt.xlabel('Total Lenders')\n",
    "plt.ylabel('Activity')\n",
    "plt.legend(title='Sector')\n",
    "plt.show()"
   ]
  },
  {
   "cell_type": "markdown",
   "metadata": {},
   "source": [
    "---"
   ]
  },
  {
   "cell_type": "markdown",
   "metadata": {},
   "source": [
    "Checking top 10 category (Sector & Activity) that most people funded fully to their expectations?"
   ]
  },
  {
   "cell_type": "code",
   "execution_count": 36,
   "metadata": {},
   "outputs": [
    {
     "data": {
      "text/html": [
       "<div>\n",
       "<style scoped>\n",
       "    .dataframe tbody tr th:only-of-type {\n",
       "        vertical-align: middle;\n",
       "    }\n",
       "\n",
       "    .dataframe tbody tr th {\n",
       "        vertical-align: top;\n",
       "    }\n",
       "\n",
       "    .dataframe thead th {\n",
       "        text-align: right;\n",
       "    }\n",
       "</style>\n",
       "<table border=\"1\" class=\"dataframe\">\n",
       "  <thead>\n",
       "    <tr style=\"text-align: right;\">\n",
       "      <th></th>\n",
       "      <th>funded_time</th>\n",
       "      <th>activity</th>\n",
       "      <th>sector</th>\n",
       "      <th>lender_count</th>\n",
       "    </tr>\n",
       "  </thead>\n",
       "  <tbody>\n",
       "    <tr>\n",
       "      <th>0</th>\n",
       "      <td>2014-01-01 12:18:55+00:00</td>\n",
       "      <td>Rickshaw</td>\n",
       "      <td>Transportation</td>\n",
       "      <td>3</td>\n",
       "    </tr>\n",
       "    <tr>\n",
       "      <th>1</th>\n",
       "      <td>2014-01-01 12:27:40+00:00</td>\n",
       "      <td>Natural Medicines</td>\n",
       "      <td>Health</td>\n",
       "      <td>6</td>\n",
       "    </tr>\n",
       "    <tr>\n",
       "      <th>2</th>\n",
       "      <td>2014-01-01 13:00:00+00:00</td>\n",
       "      <td>Embroidery</td>\n",
       "      <td>Arts</td>\n",
       "      <td>8</td>\n",
       "    </tr>\n",
       "    <tr>\n",
       "      <th>3</th>\n",
       "      <td>2014-01-01 15:35:59+00:00</td>\n",
       "      <td>Bakery</td>\n",
       "      <td>Food</td>\n",
       "      <td>10</td>\n",
       "    </tr>\n",
       "    <tr>\n",
       "      <th>4</th>\n",
       "      <td>2014-01-01 15:45:51+00:00</td>\n",
       "      <td>Embroidery</td>\n",
       "      <td>Arts</td>\n",
       "      <td>6</td>\n",
       "    </tr>\n",
       "    <tr>\n",
       "      <th>5</th>\n",
       "      <td>2014-01-01 15:58:16+00:00</td>\n",
       "      <td>Clothing Sales</td>\n",
       "      <td>Clothing</td>\n",
       "      <td>8</td>\n",
       "    </tr>\n",
       "    <tr>\n",
       "      <th>6</th>\n",
       "      <td>2014-01-01 16:01:36+00:00</td>\n",
       "      <td>Transportation</td>\n",
       "      <td>Transportation</td>\n",
       "      <td>6</td>\n",
       "    </tr>\n",
       "    <tr>\n",
       "      <th>7</th>\n",
       "      <td>2014-01-01 16:06:47+00:00</td>\n",
       "      <td>Farming</td>\n",
       "      <td>Agriculture</td>\n",
       "      <td>5</td>\n",
       "    </tr>\n",
       "    <tr>\n",
       "      <th>8</th>\n",
       "      <td>2014-01-01 16:37:28+00:00</td>\n",
       "      <td>Manufacturing</td>\n",
       "      <td>Manufacturing</td>\n",
       "      <td>7</td>\n",
       "    </tr>\n",
       "    <tr>\n",
       "      <th>9</th>\n",
       "      <td>2014-01-01 16:44:27+00:00</td>\n",
       "      <td>Education provider</td>\n",
       "      <td>Education</td>\n",
       "      <td>8</td>\n",
       "    </tr>\n",
       "  </tbody>\n",
       "</table>\n",
       "</div>"
      ],
      "text/plain": [
       "                funded_time            activity          sector  lender_count\n",
       "0 2014-01-01 12:18:55+00:00            Rickshaw  Transportation             3\n",
       "1 2014-01-01 12:27:40+00:00   Natural Medicines          Health             6\n",
       "2 2014-01-01 13:00:00+00:00          Embroidery            Arts             8\n",
       "3 2014-01-01 15:35:59+00:00              Bakery            Food            10\n",
       "4 2014-01-01 15:45:51+00:00          Embroidery            Arts             6\n",
       "5 2014-01-01 15:58:16+00:00      Clothing Sales        Clothing             8\n",
       "6 2014-01-01 16:01:36+00:00      Transportation  Transportation             6\n",
       "7 2014-01-01 16:06:47+00:00             Farming     Agriculture             5\n",
       "8 2014-01-01 16:37:28+00:00       Manufacturing   Manufacturing             7\n",
       "9 2014-01-01 16:44:27+00:00  Education provider       Education             8"
      ]
     },
     "execution_count": 36,
     "metadata": {},
     "output_type": "execute_result"
    }
   ],
   "source": [
    "df_fully = df.groupby(['funded_time', 'activity', 'sector'])['lender_count'].sum().reset_index(name='lender_count')\n",
    "df_fully.head(10)"
   ]
  },
  {
   "cell_type": "code",
   "execution_count": 37,
   "metadata": {},
   "outputs": [
    {
     "data": {
      "image/png": "[encoded data removed]",
      "text/plain": [
       "<Figure size 1200x800 with 1 Axes>"
      ]
     },
     "metadata": {},
     "output_type": "display_data"
    }
   ],
   "source": [
    "# Top 10 categories\n",
    "df_fully = df_fully.groupby(['sector', 'activity'])['lender_count'].sum().reset_index().sort_values(by='lender_count', ascending=False).head(10)\n",
    "\n",
    "plt.figure(figsize=(12, 8))\n",
    "sns.barplot(data=df_fully, x='lender_count', y='activity', hue='sector', palette='Spectral')\n",
    "plt.title('Top 10 Categories Fully Funded by Lender Count')\n",
    "plt.xlabel('Total Lender Count')\n",
    "plt.ylabel('Activity')\n",
    "plt.legend(title='Sector')\n",
    "plt.show()"
   ]
  },
  {
   "cell_type": "markdown",
   "metadata": {},
   "source": [
    "> Insight!\n",
    "- Top 5 sector and activity categories with the highest number of fully funded loans.\n",
    "- For these top 5 categories, report the total loan_amount requested by borrowers are:\n",
    "    1. `Rickshaw (Transportation)`with 3 lenders\n",
    "    2. `Natural Medicines (Health)` with 6 lenders\n",
    "    3. `Embroidery (Arts)` with 8 lenders\n",
    "    4. `Bakery (Food)` with 10 lenders\n",
    "    5. `Embroidery(Arts)` with 6 lenders"
   ]
  },
  {
   "cell_type": "markdown",
   "metadata": {},
   "source": [
    "---"
   ]
  },
  {
   "cell_type": "markdown",
   "metadata": {},
   "source": [
    "### Correlations?"
   ]
  },
  {
   "cell_type": "markdown",
   "metadata": {},
   "source": [
    "---"
   ]
  },
  {
   "cell_type": "markdown",
   "metadata": {},
   "source": [
    "### Checking numbers"
   ]
  },
  {
   "cell_type": "markdown",
   "metadata": {},
   "source": [
    "Checking all columns with numbers."
   ]
  },
  {
   "cell_type": "code",
   "execution_count": 38,
   "metadata": {},
   "outputs": [
    {
     "data": {
      "text/plain": [
       "Index(['id', 'funded_amount', 'loan_amount', 'term_in_months', 'lender_count'], dtype='object')"
      ]
     },
     "execution_count": 38,
     "metadata": {},
     "output_type": "execute_result"
    }
   ],
   "source": [
    "df.select_dtypes(include=['number']).columns"
   ]
  },
  {
   "cell_type": "code",
   "execution_count": 39,
   "metadata": {},
   "outputs": [
    {
     "name": "stdout",
     "output_type": "stream",
     "text": [
      "Minimum values:\n",
      " funded_amount     0.00\n",
      "loan_amount      25.00\n",
      "term_in_months    1.00\n",
      "lender_count      0.00\n",
      "dtype: float64\n",
      "\n",
      "Maximum values:\n",
      " funded_amount    100000.00\n",
      "loan_amount      100000.00\n",
      "term_in_months      158.00\n",
      "lender_count       2986.00\n",
      "dtype: float64\n",
      "\n",
      "Median values:\n",
      " funded_amount    450.00\n",
      "loan_amount      500.00\n",
      "term_in_months    13.00\n",
      "lender_count      13.00\n",
      "dtype: float64\n"
     ]
    }
   ],
   "source": [
    "# Calculate min, max, and median for the specified columns\n",
    "min_val = df[['funded_amount', 'loan_amount', 'term_in_months', 'lender_count']].min()\n",
    "max_val = df[['funded_amount', 'loan_amount', 'term_in_months', 'lender_count']].max()\n",
    "med_val = df[['funded_amount', 'loan_amount', 'term_in_months', 'lender_count']].median()\n",
    "\n",
    "# Display the results\n",
    "print(\"Minimum values:\\n\", min_val)\n",
    "print(\"\\nMaximum values:\\n\", max_val)\n",
    "print(\"\\nMedian values:\\n\", med_val)"
   ]
  },
  {
   "cell_type": "markdown",
   "metadata": {},
   "source": [
    "### Minimum values:\n",
    "- funded_amount     0.00\n",
    "- loan_amount      25.00\n",
    "- term_in_months    1.00\n",
    "- lender_count      0.00\n",
    "- dtype: float64\n",
    "\n",
    "### Maximum values:\n",
    "- funded_amount    100000.00\n",
    "- loan_amount      100000.00\n",
    "- term_in_months      158.00\n",
    "- lender_count       2986.00\n",
    "- dtype: float64\n",
    "\n",
    "### Median values:\n",
    "- funded_amount    450.00\n",
    "- loan_amount      500.00\n",
    "- term_in_months    13.00\n",
    "- lender_count      13.00\n",
    "- dtype: float64"
   ]
  },
  {
   "cell_type": "markdown",
   "metadata": {},
   "source": [
    "---"
   ]
  },
  {
   "cell_type": "markdown",
   "metadata": {},
   "source": [
    "Using heatmap to find correlations."
   ]
  },
  {
   "cell_type": "code",
   "execution_count": 40,
   "metadata": {},
   "outputs": [
    {
     "data": {
      "text/html": [
       "<div>\n",
       "<style scoped>\n",
       "    .dataframe tbody tr th:only-of-type {\n",
       "        vertical-align: middle;\n",
       "    }\n",
       "\n",
       "    .dataframe tbody tr th {\n",
       "        vertical-align: top;\n",
       "    }\n",
       "\n",
       "    .dataframe thead th {\n",
       "        text-align: right;\n",
       "    }\n",
       "</style>\n",
       "<table border=\"1\" class=\"dataframe\">\n",
       "  <thead>\n",
       "    <tr style=\"text-align: right;\">\n",
       "      <th></th>\n",
       "      <th>loan_amount</th>\n",
       "      <th>funded_amount</th>\n",
       "      <th>lender_count</th>\n",
       "      <th>term_in_months</th>\n",
       "    </tr>\n",
       "  </thead>\n",
       "  <tbody>\n",
       "    <tr>\n",
       "      <th>count</th>\n",
       "      <td>671205.00</td>\n",
       "      <td>671205.00</td>\n",
       "      <td>671205.00</td>\n",
       "      <td>671205.00</td>\n",
       "    </tr>\n",
       "    <tr>\n",
       "      <th>mean</th>\n",
       "      <td>842.40</td>\n",
       "      <td>786.00</td>\n",
       "      <td>20.59</td>\n",
       "      <td>13.74</td>\n",
       "    </tr>\n",
       "    <tr>\n",
       "      <th>std</th>\n",
       "      <td>1198.66</td>\n",
       "      <td>1130.40</td>\n",
       "      <td>28.46</td>\n",
       "      <td>8.60</td>\n",
       "    </tr>\n",
       "    <tr>\n",
       "      <th>min</th>\n",
       "      <td>25.00</td>\n",
       "      <td>0.00</td>\n",
       "      <td>0.00</td>\n",
       "      <td>1.00</td>\n",
       "    </tr>\n",
       "    <tr>\n",
       "      <th>25%</th>\n",
       "      <td>275.00</td>\n",
       "      <td>250.00</td>\n",
       "      <td>7.00</td>\n",
       "      <td>8.00</td>\n",
       "    </tr>\n",
       "    <tr>\n",
       "      <th>50%</th>\n",
       "      <td>500.00</td>\n",
       "      <td>450.00</td>\n",
       "      <td>13.00</td>\n",
       "      <td>13.00</td>\n",
       "    </tr>\n",
       "    <tr>\n",
       "      <th>75%</th>\n",
       "      <td>1000.00</td>\n",
       "      <td>900.00</td>\n",
       "      <td>24.00</td>\n",
       "      <td>14.00</td>\n",
       "    </tr>\n",
       "    <tr>\n",
       "      <th>max</th>\n",
       "      <td>100000.00</td>\n",
       "      <td>100000.00</td>\n",
       "      <td>2986.00</td>\n",
       "      <td>158.00</td>\n",
       "    </tr>\n",
       "  </tbody>\n",
       "</table>\n",
       "</div>"
      ],
      "text/plain": [
       "       loan_amount  funded_amount  lender_count  term_in_months\n",
       "count    671205.00      671205.00     671205.00       671205.00\n",
       "mean        842.40         786.00         20.59           13.74\n",
       "std        1198.66        1130.40         28.46            8.60\n",
       "min          25.00           0.00          0.00            1.00\n",
       "25%         275.00         250.00          7.00            8.00\n",
       "50%         500.00         450.00         13.00           13.00\n",
       "75%        1000.00         900.00         24.00           14.00\n",
       "max      100000.00      100000.00       2986.00          158.00"
      ]
     },
     "execution_count": 40,
     "metadata": {},
     "output_type": "execute_result"
    }
   ],
   "source": [
    "df4 = df[['loan_amount', 'funded_amount', 'lender_count', 'term_in_months']].describe()\n",
    "df4"
   ]
  },
  {
   "cell_type": "markdown",
   "metadata": {},
   "source": [
    "Checking correlation using `.corr`"
   ]
  },
  {
   "cell_type": "code",
   "execution_count": 41,
   "metadata": {},
   "outputs": [
    {
     "data": {
      "text/html": [
       "<div>\n",
       "<style scoped>\n",
       "    .dataframe tbody tr th:only-of-type {\n",
       "        vertical-align: middle;\n",
       "    }\n",
       "\n",
       "    .dataframe tbody tr th {\n",
       "        vertical-align: top;\n",
       "    }\n",
       "\n",
       "    .dataframe thead th {\n",
       "        text-align: right;\n",
       "    }\n",
       "</style>\n",
       "<table border=\"1\" class=\"dataframe\">\n",
       "  <thead>\n",
       "    <tr style=\"text-align: right;\">\n",
       "      <th></th>\n",
       "      <th>index</th>\n",
       "      <th>loan_amount</th>\n",
       "      <th>funded_amount</th>\n",
       "      <th>lender_count</th>\n",
       "      <th>term_in_months</th>\n",
       "    </tr>\n",
       "  </thead>\n",
       "  <tbody>\n",
       "    <tr>\n",
       "      <th>0</th>\n",
       "      <td>loan_amount</td>\n",
       "      <td>1.00</td>\n",
       "      <td>0.95</td>\n",
       "      <td>0.80</td>\n",
       "      <td>0.18</td>\n",
       "    </tr>\n",
       "    <tr>\n",
       "      <th>1</th>\n",
       "      <td>funded_amount</td>\n",
       "      <td>0.95</td>\n",
       "      <td>1.00</td>\n",
       "      <td>0.85</td>\n",
       "      <td>0.15</td>\n",
       "    </tr>\n",
       "    <tr>\n",
       "      <th>2</th>\n",
       "      <td>lender_count</td>\n",
       "      <td>0.80</td>\n",
       "      <td>0.85</td>\n",
       "      <td>1.00</td>\n",
       "      <td>0.23</td>\n",
       "    </tr>\n",
       "    <tr>\n",
       "      <th>3</th>\n",
       "      <td>term_in_months</td>\n",
       "      <td>0.18</td>\n",
       "      <td>0.15</td>\n",
       "      <td>0.23</td>\n",
       "      <td>1.00</td>\n",
       "    </tr>\n",
       "  </tbody>\n",
       "</table>\n",
       "</div>"
      ],
      "text/plain": [
       "            index  loan_amount  funded_amount  lender_count  term_in_months\n",
       "0     loan_amount         1.00           0.95          0.80            0.18\n",
       "1   funded_amount         0.95           1.00          0.85            0.15\n",
       "2    lender_count         0.80           0.85          1.00            0.23\n",
       "3  term_in_months         0.18           0.15          0.23            1.00"
      ]
     },
     "execution_count": 41,
     "metadata": {},
     "output_type": "execute_result"
    }
   ],
   "source": [
    "df5 = df[['loan_amount', 'funded_amount', 'lender_count', 'term_in_months']].corr().reset_index()\n",
    "df5"
   ]
  },
  {
   "cell_type": "markdown",
   "metadata": {},
   "source": [
    "Notes: Correlation ranged from -1 to 1.\n",
    "- Correlation = 1 ➡️➡️➡️ very strong, positive correlation.\n",
    "- Correlation = 0 ➡️➡️➡️ no correlation at all.\n",
    "- Correlation = - (Negative) ➡️➡️➡️ Negative correlation\n",
    "- Reference: [Correlation and Regression Analysis](https://sesricdiag.blob.core.windows.net/oicstatcom/TEXTBOOK-CORRELATION-AND-REGRESSION-ANALYSIS-EGYPT-EN.pdf)"
   ]
  },
  {
   "cell_type": "markdown",
   "metadata": {},
   "source": [
    "> INSIGHT!\n",
    "- loan_amount and funded_amount have almost 1 correlation, means the correlation between them are very strong, positive.\n",
    "- funded_amount and lender_count have 0.85 correlation, means the correlation between them are very strong, positive.\n",
    "- lender_count and loan_amount have 0.8 correlation, means the correlation between them are quite strong, positive.\n",
    "- term_in_months have very weak or almost no correlation with:\n",
    "  - loan_amount, funded_amount, lender_count."
   ]
  },
  {
   "cell_type": "markdown",
   "metadata": {},
   "source": [
    "Using heatmap"
   ]
  },
  {
   "cell_type": "code",
   "execution_count": 42,
   "metadata": {},
   "outputs": [
    {
     "data": {
      "image/png": "[encoded data removed]",
      "text/plain": [
       "<Figure size 700x700 with 2 Axes>"
      ]
     },
     "metadata": {},
     "output_type": "display_data"
    }
   ],
   "source": [
    "plt.figure(figsize=(7,7))\n",
    "sns.heatmap(df4, annot=True, cmap='YlGnBu', fmt='.2f')\n",
    "plt.title('Descriptive Statistics Heatmap')\n",
    "plt.show()"
   ]
  },
  {
   "cell_type": "markdown",
   "metadata": {},
   "source": [
    "Using `heatmap` + `.corr`"
   ]
  },
  {
   "cell_type": "code",
   "execution_count": 43,
   "metadata": {},
   "outputs": [
    {
     "data": {
      "image/png": "[encoded data removed]",
      "text/plain": [
       "<Figure size 640x480 with 2 Axes>"
      ]
     },
     "metadata": {},
     "output_type": "display_data"
    }
   ],
   "source": [
    "df4 = df[['loan_amount', 'funded_amount', 'lender_count', 'term_in_months']]\n",
    "correlation_matrix = df4.corr()\n",
    "heatmap = sns.heatmap(correlation_matrix, annot=True, cmap='Blues')"
   ]
  },
  {
   "cell_type": "markdown",
   "metadata": {},
   "source": [
    "Checking correlation Using Pairplot"
   ]
  },
  {
   "cell_type": "code",
   "execution_count": 44,
   "metadata": {},
   "outputs": [
    {
     "data": {
      "text/plain": [
       "<seaborn.axisgrid.PairGrid at 0x156baf377a0>"
      ]
     },
     "execution_count": 44,
     "metadata": {},
     "output_type": "execute_result"
    },
    {
     "data": {
      "image/png": "[encoded data removed]",
      "text/plain": [
       "<Figure size 1000x1000 with 20 Axes>"
      ]
     },
     "metadata": {},
     "output_type": "display_data"
    }
   ],
   "source": [
    "sns.pairplot(df[['loan_amount', 'funded_amount', 'lender_count', 'term_in_months']])"
   ]
  },
  {
   "cell_type": "markdown",
   "metadata": {},
   "source": [
    "> Insight!\n",
    "> INSIGHT!\n",
    "- loan_amount and funded_amount have positive correlation, means the correlation between them are very strong.\n",
    "- funded_amount and lender_count have positive correlation, means the correlation between them are very strong.\n",
    "- lender_count and loan_amount have positivecorrelation, means the correlation between them are quite strong.\n",
    "- term_in_months have very weak or almost no correlation with:\n",
    "  - loan_amount, funded_amount, lender_count."
   ]
  },
  {
   "attachments": {
    "image.png": {
     "image/png": "[encoded data removed]"
    }
   },
   "cell_type": "markdown",
   "metadata": {},
   "source": [
    "How to read:\n",
    "\n",
    "![image.png](attachment:image.png)\n",
    "Reference: [Correlation and Regression Analysis](https://sesricdiag.blob.core.windows.net/oicstatcom/TEXTBOOK-CORRELATION-AND-REGRESSION-ANALYSIS-EGYPT-EN.pdf)"
   ]
  },
  {
   "cell_type": "markdown",
   "metadata": {},
   "source": [
    "---"
   ]
  },
  {
   "cell_type": "code",
   "execution_count": 45,
   "metadata": {
    "vscode": {
     "languageId": "shellscript"
    }
   },
   "outputs": [
    {
     "data": {
      "text/html": [
       "<div>\n",
       "<style scoped>\n",
       "    .dataframe tbody tr th:only-of-type {\n",
       "        vertical-align: middle;\n",
       "    }\n",
       "\n",
       "    .dataframe tbody tr th {\n",
       "        vertical-align: top;\n",
       "    }\n",
       "\n",
       "    .dataframe thead th {\n",
       "        text-align: right;\n",
       "    }\n",
       "</style>\n",
       "<table border=\"1\" class=\"dataframe\">\n",
       "  <thead>\n",
       "    <tr style=\"text-align: right;\">\n",
       "      <th></th>\n",
       "      <th>loan_amount</th>\n",
       "      <th>loan_amount_IDR</th>\n",
       "      <th>funded_amount</th>\n",
       "      <th>funded_amount_IDR</th>\n",
       "    </tr>\n",
       "  </thead>\n",
       "  <tbody>\n",
       "    <tr>\n",
       "      <th>0</th>\n",
       "      <td>300.00</td>\n",
       "      <td>4500000.00</td>\n",
       "      <td>300.00</td>\n",
       "      <td>4500000.00</td>\n",
       "    </tr>\n",
       "    <tr>\n",
       "      <th>1</th>\n",
       "      <td>575.00</td>\n",
       "      <td>8625000.00</td>\n",
       "      <td>575.00</td>\n",
       "      <td>8625000.00</td>\n",
       "    </tr>\n",
       "    <tr>\n",
       "      <th>2</th>\n",
       "      <td>150.00</td>\n",
       "      <td>2250000.00</td>\n",
       "      <td>150.00</td>\n",
       "      <td>2250000.00</td>\n",
       "    </tr>\n",
       "    <tr>\n",
       "      <th>3</th>\n",
       "      <td>200.00</td>\n",
       "      <td>3000000.00</td>\n",
       "      <td>200.00</td>\n",
       "      <td>3000000.00</td>\n",
       "    </tr>\n",
       "    <tr>\n",
       "      <th>4</th>\n",
       "      <td>400.00</td>\n",
       "      <td>6000000.00</td>\n",
       "      <td>400.00</td>\n",
       "      <td>6000000.00</td>\n",
       "    </tr>\n",
       "  </tbody>\n",
       "</table>\n",
       "</div>"
      ],
      "text/plain": [
       "   loan_amount  loan_amount_IDR  funded_amount  funded_amount_IDR\n",
       "0       300.00       4500000.00         300.00         4500000.00\n",
       "1       575.00       8625000.00         575.00         8625000.00\n",
       "2       150.00       2250000.00         150.00         2250000.00\n",
       "3       200.00       3000000.00         200.00         3000000.00\n",
       "4       400.00       6000000.00         400.00         6000000.00"
      ]
     },
     "execution_count": 45,
     "metadata": {},
     "output_type": "execute_result"
    }
   ],
   "source": [
    "# Exchange rate IDR\n",
    "IDR = 15000\n",
    "\n",
    "# Convert the currency\n",
    "df['loan_amount_IDR'] = df['loan_amount'] * IDR\n",
    "df['funded_amount_IDR'] = df['funded_amount'] * IDR\n",
    "\n",
    "# Display the updated dataframe\n",
    "df_IDR = df[['loan_amount', 'loan_amount_IDR', 'funded_amount', 'funded_amount_IDR']]\n",
    "df_IDR.head()"
   ]
  },
  {
   "cell_type": "code",
   "execution_count": 46,
   "metadata": {
    "vscode": {
     "languageId": "shellscript"
    }
   },
   "outputs": [
    {
     "data": {
      "text/html": [
       "<div>\n",
       "<style scoped>\n",
       "    .dataframe tbody tr th:only-of-type {\n",
       "        vertical-align: middle;\n",
       "    }\n",
       "\n",
       "    .dataframe tbody tr th {\n",
       "        vertical-align: top;\n",
       "    }\n",
       "\n",
       "    .dataframe thead th {\n",
       "        text-align: right;\n",
       "    }\n",
       "</style>\n",
       "<table border=\"1\" class=\"dataframe\">\n",
       "  <thead>\n",
       "    <tr style=\"text-align: right;\">\n",
       "      <th></th>\n",
       "      <th>id</th>\n",
       "      <th>loan_amount_IDR</th>\n",
       "      <th>funded_amount_IDR</th>\n",
       "      <th>activity</th>\n",
       "      <th>sector</th>\n",
       "      <th>use</th>\n",
       "      <th>country</th>\n",
       "      <th>region</th>\n",
       "      <th>currency</th>\n",
       "      <th>partner_id</th>\n",
       "      <th>posted_time</th>\n",
       "      <th>funded_time</th>\n",
       "      <th>term_in_months</th>\n",
       "      <th>lender_count</th>\n",
       "      <th>repayment_interval</th>\n",
       "    </tr>\n",
       "  </thead>\n",
       "  <tbody>\n",
       "    <tr>\n",
       "      <th>0</th>\n",
       "      <td>653051</td>\n",
       "      <td>4500000.00</td>\n",
       "      <td>4500000.00</td>\n",
       "      <td>Fruits &amp; Vegetables</td>\n",
       "      <td>Food</td>\n",
       "      <td>To buy seasonal, fresh fruits to sell.</td>\n",
       "      <td>Pakistan</td>\n",
       "      <td>Lahore</td>\n",
       "      <td>PKR</td>\n",
       "      <td>247.00</td>\n",
       "      <td>2014-01-01 06:12:39+00:00</td>\n",
       "      <td>2014-01-02 10:06:32+00:00</td>\n",
       "      <td>12.00</td>\n",
       "      <td>12</td>\n",
       "      <td>irregular</td>\n",
       "    </tr>\n",
       "    <tr>\n",
       "      <th>1</th>\n",
       "      <td>653053</td>\n",
       "      <td>8625000.00</td>\n",
       "      <td>8625000.00</td>\n",
       "      <td>Rickshaw</td>\n",
       "      <td>Transportation</td>\n",
       "      <td>to repair and maintain the auto rickshaw used ...</td>\n",
       "      <td>Pakistan</td>\n",
       "      <td>Lahore</td>\n",
       "      <td>PKR</td>\n",
       "      <td>247.00</td>\n",
       "      <td>2014-01-01 06:51:08+00:00</td>\n",
       "      <td>2014-01-02 09:17:23+00:00</td>\n",
       "      <td>11.00</td>\n",
       "      <td>14</td>\n",
       "      <td>irregular</td>\n",
       "    </tr>\n",
       "    <tr>\n",
       "      <th>2</th>\n",
       "      <td>653068</td>\n",
       "      <td>2250000.00</td>\n",
       "      <td>2250000.00</td>\n",
       "      <td>Transportation</td>\n",
       "      <td>Transportation</td>\n",
       "      <td>To repair their old cycle-van and buy another ...</td>\n",
       "      <td>India</td>\n",
       "      <td>Maynaguri</td>\n",
       "      <td>INR</td>\n",
       "      <td>334.00</td>\n",
       "      <td>2014-01-01 09:58:07+00:00</td>\n",
       "      <td>2014-01-01 16:01:36+00:00</td>\n",
       "      <td>43.00</td>\n",
       "      <td>6</td>\n",
       "      <td>bullet</td>\n",
       "    </tr>\n",
       "    <tr>\n",
       "      <th>3</th>\n",
       "      <td>653063</td>\n",
       "      <td>3000000.00</td>\n",
       "      <td>3000000.00</td>\n",
       "      <td>Embroidery</td>\n",
       "      <td>Arts</td>\n",
       "      <td>to purchase an embroidery machine and a variet...</td>\n",
       "      <td>Pakistan</td>\n",
       "      <td>Lahore</td>\n",
       "      <td>PKR</td>\n",
       "      <td>247.00</td>\n",
       "      <td>2014-01-01 08:03:11+00:00</td>\n",
       "      <td>2014-01-01 13:00:00+00:00</td>\n",
       "      <td>11.00</td>\n",
       "      <td>8</td>\n",
       "      <td>irregular</td>\n",
       "    </tr>\n",
       "    <tr>\n",
       "      <th>4</th>\n",
       "      <td>653084</td>\n",
       "      <td>6000000.00</td>\n",
       "      <td>6000000.00</td>\n",
       "      <td>Milk Sales</td>\n",
       "      <td>Food</td>\n",
       "      <td>to purchase one buffalo.</td>\n",
       "      <td>Pakistan</td>\n",
       "      <td>Abdul Hakeem</td>\n",
       "      <td>PKR</td>\n",
       "      <td>245.00</td>\n",
       "      <td>2014-01-01 11:53:19+00:00</td>\n",
       "      <td>2014-01-01 19:18:51+00:00</td>\n",
       "      <td>14.00</td>\n",
       "      <td>16</td>\n",
       "      <td>monthly</td>\n",
       "    </tr>\n",
       "  </tbody>\n",
       "</table>\n",
       "</div>"
      ],
      "text/plain": [
       "       id  loan_amount_IDR  funded_amount_IDR             activity  \\\n",
       "0  653051       4500000.00         4500000.00  Fruits & Vegetables   \n",
       "1  653053       8625000.00         8625000.00             Rickshaw   \n",
       "2  653068       2250000.00         2250000.00       Transportation   \n",
       "3  653063       3000000.00         3000000.00           Embroidery   \n",
       "4  653084       6000000.00         6000000.00           Milk Sales   \n",
       "\n",
       "           sector                                                use  \\\n",
       "0            Food            To buy seasonal, fresh fruits to sell.    \n",
       "1  Transportation  to repair and maintain the auto rickshaw used ...   \n",
       "2  Transportation  To repair their old cycle-van and buy another ...   \n",
       "3            Arts  to purchase an embroidery machine and a variet...   \n",
       "4            Food                           to purchase one buffalo.   \n",
       "\n",
       "    country        region currency partner_id                posted_time  \\\n",
       "0  Pakistan        Lahore      PKR     247.00  2014-01-01 06:12:39+00:00   \n",
       "1  Pakistan        Lahore      PKR     247.00  2014-01-01 06:51:08+00:00   \n",
       "2     India     Maynaguri      INR     334.00  2014-01-01 09:58:07+00:00   \n",
       "3  Pakistan        Lahore      PKR     247.00  2014-01-01 08:03:11+00:00   \n",
       "4  Pakistan  Abdul Hakeem      PKR     245.00  2014-01-01 11:53:19+00:00   \n",
       "\n",
       "                funded_time  term_in_months  lender_count repayment_interval  \n",
       "0 2014-01-02 10:06:32+00:00           12.00            12          irregular  \n",
       "1 2014-01-02 09:17:23+00:00           11.00            14          irregular  \n",
       "2 2014-01-01 16:01:36+00:00           43.00             6             bullet  \n",
       "3 2014-01-01 13:00:00+00:00           11.00             8          irregular  \n",
       "4 2014-01-01 19:18:51+00:00           14.00            16            monthly  "
      ]
     },
     "execution_count": 46,
     "metadata": {},
     "output_type": "execute_result"
    }
   ],
   "source": [
    "# Create a new DataFrame with the IDR versions of the loan amount and funded amount\n",
    "df_new = df[['id', 'loan_amount_IDR', 'funded_amount_IDR', 'activity', 'sector', 'use', 'country', 'region', 'currency', 'partner_id', 'posted_time', 'funded_time', 'term_in_months', 'lender_count', 'repayment_interval']]\n",
    "\n",
    "# Display the new DataFrame\n",
    "df_new.head()"
   ]
  },
  {
   "cell_type": "code",
   "execution_count": 47,
   "metadata": {
    "vscode": {
     "languageId": "shellscript"
    }
   },
   "outputs": [
    {
     "data": {
      "text/html": [
       "<div>\n",
       "<style scoped>\n",
       "    .dataframe tbody tr th:only-of-type {\n",
       "        vertical-align: middle;\n",
       "    }\n",
       "\n",
       "    .dataframe tbody tr th {\n",
       "        vertical-align: top;\n",
       "    }\n",
       "\n",
       "    .dataframe thead th {\n",
       "        text-align: right;\n",
       "    }\n",
       "</style>\n",
       "<table border=\"1\" class=\"dataframe\">\n",
       "  <thead>\n",
       "    <tr style=\"text-align: right;\">\n",
       "      <th></th>\n",
       "      <th>id</th>\n",
       "      <th>loan_amount_IDR</th>\n",
       "      <th>funded_amount_IDR</th>\n",
       "      <th>activity</th>\n",
       "      <th>sector</th>\n",
       "      <th>use</th>\n",
       "      <th>country</th>\n",
       "      <th>region</th>\n",
       "      <th>currency</th>\n",
       "      <th>partner_id</th>\n",
       "      <th>posted_time</th>\n",
       "      <th>funded_time</th>\n",
       "      <th>term_in_months</th>\n",
       "      <th>lender_count</th>\n",
       "      <th>repayment_interval</th>\n",
       "    </tr>\n",
       "  </thead>\n",
       "  <tbody>\n",
       "    <tr>\n",
       "      <th>671200</th>\n",
       "      <td>1340323</td>\n",
       "      <td>375000.00</td>\n",
       "      <td>0.00</td>\n",
       "      <td>Livestock</td>\n",
       "      <td>Agriculture</td>\n",
       "      <td>[True, u'para compara: cemento, arenya y ladri...</td>\n",
       "      <td>Paraguay</td>\n",
       "      <td>Concepción</td>\n",
       "      <td>USD</td>\n",
       "      <td>58.00</td>\n",
       "      <td>2017-07-25 16:55:34+00:00</td>\n",
       "      <td>NaT</td>\n",
       "      <td>13.00</td>\n",
       "      <td>0</td>\n",
       "      <td>monthly</td>\n",
       "    </tr>\n",
       "    <tr>\n",
       "      <th>671201</th>\n",
       "      <td>1340316</td>\n",
       "      <td>375000.00</td>\n",
       "      <td>375000.00</td>\n",
       "      <td>Livestock</td>\n",
       "      <td>Agriculture</td>\n",
       "      <td>[True, u'to start a turducken farm.'] - this l...</td>\n",
       "      <td>Kenya</td>\n",
       "      <td>Unknown</td>\n",
       "      <td>KES</td>\n",
       "      <td>138.00</td>\n",
       "      <td>2017-07-25 06:14:08+00:00</td>\n",
       "      <td>2017-07-26 02:09:43+00:00</td>\n",
       "      <td>13.00</td>\n",
       "      <td>1</td>\n",
       "      <td>monthly</td>\n",
       "    </tr>\n",
       "    <tr>\n",
       "      <th>671202</th>\n",
       "      <td>1340334</td>\n",
       "      <td>375000.00</td>\n",
       "      <td>0.00</td>\n",
       "      <td>Games</td>\n",
       "      <td>Entertainment</td>\n",
       "      <td>Unknown</td>\n",
       "      <td>Kenya</td>\n",
       "      <td>Unknown</td>\n",
       "      <td>KES</td>\n",
       "      <td>138.00</td>\n",
       "      <td>2017-07-26 00:02:07+00:00</td>\n",
       "      <td>NaT</td>\n",
       "      <td>13.00</td>\n",
       "      <td>0</td>\n",
       "      <td>monthly</td>\n",
       "    </tr>\n",
       "    <tr>\n",
       "      <th>671203</th>\n",
       "      <td>1340338</td>\n",
       "      <td>375000.00</td>\n",
       "      <td>0.00</td>\n",
       "      <td>Livestock</td>\n",
       "      <td>Agriculture</td>\n",
       "      <td>[True, u'to start a turducken farm.'] - this l...</td>\n",
       "      <td>Kenya</td>\n",
       "      <td>Unknown</td>\n",
       "      <td>KES</td>\n",
       "      <td>138.00</td>\n",
       "      <td>2017-07-26 06:12:55+00:00</td>\n",
       "      <td>NaT</td>\n",
       "      <td>13.00</td>\n",
       "      <td>0</td>\n",
       "      <td>monthly</td>\n",
       "    </tr>\n",
       "    <tr>\n",
       "      <th>671204</th>\n",
       "      <td>1340339</td>\n",
       "      <td>375000.00</td>\n",
       "      <td>0.00</td>\n",
       "      <td>Livestock</td>\n",
       "      <td>Agriculture</td>\n",
       "      <td>[True, u'to start a turducken farm.'] - this l...</td>\n",
       "      <td>Kenya</td>\n",
       "      <td>Unknown</td>\n",
       "      <td>KES</td>\n",
       "      <td>138.00</td>\n",
       "      <td>2017-07-26 06:31:46+00:00</td>\n",
       "      <td>NaT</td>\n",
       "      <td>13.00</td>\n",
       "      <td>0</td>\n",
       "      <td>monthly</td>\n",
       "    </tr>\n",
       "  </tbody>\n",
       "</table>\n",
       "</div>"
      ],
      "text/plain": [
       "             id  loan_amount_IDR  funded_amount_IDR   activity         sector  \\\n",
       "671200  1340323        375000.00               0.00  Livestock    Agriculture   \n",
       "671201  1340316        375000.00          375000.00  Livestock    Agriculture   \n",
       "671202  1340334        375000.00               0.00      Games  Entertainment   \n",
       "671203  1340338        375000.00               0.00  Livestock    Agriculture   \n",
       "671204  1340339        375000.00               0.00  Livestock    Agriculture   \n",
       "\n",
       "                                                      use   country  \\\n",
       "671200  [True, u'para compara: cemento, arenya y ladri...  Paraguay   \n",
       "671201  [True, u'to start a turducken farm.'] - this l...     Kenya   \n",
       "671202                                            Unknown     Kenya   \n",
       "671203  [True, u'to start a turducken farm.'] - this l...     Kenya   \n",
       "671204  [True, u'to start a turducken farm.'] - this l...     Kenya   \n",
       "\n",
       "            region currency partner_id                posted_time  \\\n",
       "671200  Concepción      USD      58.00  2017-07-25 16:55:34+00:00   \n",
       "671201     Unknown      KES     138.00  2017-07-25 06:14:08+00:00   \n",
       "671202     Unknown      KES     138.00  2017-07-26 00:02:07+00:00   \n",
       "671203     Unknown      KES     138.00  2017-07-26 06:12:55+00:00   \n",
       "671204     Unknown      KES     138.00  2017-07-26 06:31:46+00:00   \n",
       "\n",
       "                     funded_time  term_in_months  lender_count  \\\n",
       "671200                       NaT           13.00             0   \n",
       "671201 2017-07-26 02:09:43+00:00           13.00             1   \n",
       "671202                       NaT           13.00             0   \n",
       "671203                       NaT           13.00             0   \n",
       "671204                       NaT           13.00             0   \n",
       "\n",
       "       repayment_interval  \n",
       "671200            monthly  \n",
       "671201            monthly  \n",
       "671202            monthly  \n",
       "671203            monthly  \n",
       "671204            monthly  "
      ]
     },
     "execution_count": 47,
     "metadata": {},
     "output_type": "execute_result"
    }
   ],
   "source": [
    "df_new.tail()"
   ]
  },
  {
   "cell_type": "markdown",
   "metadata": {},
   "source": [
    "---\n",
    "---"
   ]
  },
  {
   "cell_type": "markdown",
   "metadata": {},
   "source": [
    "Save new df as csv file and excel file"
   ]
  },
  {
   "cell_type": "code",
   "execution_count": 48,
   "metadata": {},
   "outputs": [],
   "source": [
    "df_new.to_csv('loan_kiva_new.csv')"
   ]
  },
  {
   "cell_type": "markdown",
   "metadata": {},
   "source": [
    "---"
   ]
  },
  {
   "cell_type": "markdown",
   "metadata": {},
   "source": [
    "Convert to category."
   ]
  },
  {
   "cell_type": "code",
   "execution_count": 49,
   "metadata": {},
   "outputs": [],
   "source": [
    "df['activity'] = df['activity'].astype('category')\n",
    "df['sector'] = df['sector'].astype('category')\n",
    "df['country'] = df['country'].astype('category')\n",
    "df['region'] = df['region'].astype('category')\n",
    "df['currency'] = df['currency'].astype('category')\n",
    "df['partner_id'] = df['partner_id'].astype('category')"
   ]
  },
  {
   "cell_type": "code",
   "execution_count": 50,
   "metadata": {},
   "outputs": [
    {
     "data": {
      "text/plain": [
       "Index(['activity', 'sector', 'country', 'region', 'currency', 'partner_id'], dtype='object')"
      ]
     },
     "execution_count": 50,
     "metadata": {},
     "output_type": "execute_result"
    }
   ],
   "source": [
    "df.select_dtypes(include=['category']).columns"
   ]
  }
 ],
 "metadata": {
  "kernelspec": {
   "display_name": "base",
   "language": "python",
   "name": "python3"
  },
  "language_info": {
   "codemirror_mode": {
    "name": "ipython",
    "version": 3
   },
   "file_extension": ".py",
   "mimetype": "text/x-python",
   "name": "python",
   "nbconvert_exporter": "python",
   "pygments_lexer": "ipython3",
   "version": "3.12.7"
  }
 },
 "nbformat": 4,
 "nbformat_minor": 2
}
